{
 "cells": [
  {
   "cell_type": "markdown",
   "metadata": {},
   "source": [
    "# Git 101\n",
    "\n",
    "> Git is a free and open source distributed version control system designed to handle everything from small to very large projects with speed and efficiency.\n",
    ">\n",
    "> -- https://git-scm.com/\n",
    "\n",
    "You may find that there is already tons of information in the internet about Git, so why another blog post? The target audience of most the resources are developers. This 101 should be a good starting point for system engineers. We don't need to understand all of the Git features but we should have a basic understanding of them. Most importantly, not be afraid to start using it and learn it better little by little.\n",
    "\n",
    "Git is a version control system (VCS) but does some things differently from other versioning systems and has become the de facto standard VCS for software projects. It can handle very big projects like the Linux kernel and works perfectly fine for small projects as well. In Git, we call a project a repository and all the Git relevant data are stored in the `.git` directory. In order to demonstrate, we will create an empty directory and try to see the status of Git.\n",
    "\n",
    "Git repository can be used for any deployment project with text files or configuration as well as a network configuration backup system. During the following examples, think about what kind of data could be in the repository. A simple example would be a deployment repository with a docker compose file and setting files."
   ]
  },
  {
   "cell_type": "code",
   "execution_count": 1,
   "metadata": {},
   "outputs": [
    {
     "name": "stdout",
     "output_type": "stream",
     "text": [
      "total 8\n",
      "drwxr-xr-x 2 urs urs 4096 Jul 16 05:16 \u001b[0m\u001b[01;34m.\u001b[0m\n",
      "drwxr-xr-x 4 urs urs 4096 Jul 16 05:16 \u001b[01;34m..\u001b[0m\n"
     ]
    }
   ],
   "source": [
    "mkdir test1 && cd test1 && ls -al"
   ]
  },
  {
   "cell_type": "code",
   "execution_count": 2,
   "metadata": {},
   "outputs": [
    {
     "name": "stdout",
     "output_type": "stream",
     "text": [
      "fatal: not a git repository (or any of the parent directories): .git\n"
     ]
    }
   ],
   "source": [
    "git status"
   ]
  },
  {
   "cell_type": "markdown",
   "metadata": {},
   "source": [
    "The command `git status` is definitely worth to remember. Of course there are Git GUI available and many editors or IDE softwares that have an integration but using the commands helps a lot to understand the concept. And it will allow you to be much faster anyway.\n",
    "\n",
    "The error message tells us that Git cannot find the `.git` directory. To create a Git repository in our local machine, we can initiate a new one or clone one from a remote server. Let's see first how we can create a new one."
   ]
  },
  {
   "cell_type": "code",
   "execution_count": 3,
   "metadata": {},
   "outputs": [
    {
     "name": "stdout",
     "output_type": "stream",
     "text": [
      "Initialized empty Git repository in /home/urs/git101/test1/.git/\n"
     ]
    }
   ],
   "source": [
    "git init"
   ]
  },
  {
   "cell_type": "code",
   "execution_count": 4,
   "metadata": {
    "scrolled": true
   },
   "outputs": [
    {
     "name": "stdout",
     "output_type": "stream",
     "text": [
      "total 40\n",
      "drwxr-xr-x 7 urs urs 4096 Jul 16 05:18 \u001b[0m\u001b[01;34m.\u001b[0m\n",
      "drwxr-xr-x 3 urs urs 4096 Jul 16 05:18 \u001b[01;34m..\u001b[0m\n",
      "-rw-r--r-- 1 urs urs   23 Jul 16 05:18 HEAD\n",
      "drwxr-xr-x 2 urs urs 4096 Jul 16 05:18 \u001b[01;34mbranches\u001b[0m\n",
      "-rw-r--r-- 1 urs urs   92 Jul 16 05:18 config\n",
      "-rw-r--r-- 1 urs urs   73 Jul 16 05:18 description\n",
      "drwxr-xr-x 2 urs urs 4096 Jul 16 05:18 \u001b[01;34mhooks\u001b[0m\n",
      "drwxr-xr-x 2 urs urs 4096 Jul 16 05:18 \u001b[01;34minfo\u001b[0m\n",
      "drwxr-xr-x 4 urs urs 4096 Jul 16 05:18 \u001b[01;34mobjects\u001b[0m\n",
      "drwxr-xr-x 4 urs urs 4096 Jul 16 05:18 \u001b[01;34mrefs\u001b[0m\n"
     ]
    }
   ],
   "source": [
    "ls -al .git"
   ]
  },
  {
   "cell_type": "code",
   "execution_count": 5,
   "metadata": {},
   "outputs": [
    {
     "name": "stdout",
     "output_type": "stream",
     "text": [
      "On branch master\n",
      "\n",
      "No commits yet\n",
      "\n",
      "nothing to commit (create/copy files and use \"git add\" to track)\n"
     ]
    }
   ],
   "source": [
    "git status"
   ]
  },
  {
   "cell_type": "markdown",
   "metadata": {},
   "source": [
    "Git created succesfully a new repository and now we can see the directory `.git`. We should never need to make any changes on this directory by hand. When we check the Git status, we see that we have a clear repository. We are working on the master branch (branches are one of the big advantages of Git - we will take a closer look later) and no commit is present. Meanwhile, no files are ready to be tracked. As the output above suggests, we will add some content to our test project."
   ]
  },
  {
   "cell_type": "code",
   "execution_count": 6,
   "metadata": {},
   "outputs": [],
   "source": [
    "cat > README.md <<EOF\n",
    "# Test Project 1\n",
    "\n",
    "It is always good to have a README file as a entry point of reading in a project.\n",
    "The file doesn't have to be huge and perfect. As the project develops this file should too.\n",
    "\n",
    "## ToDo\n",
    "\n",
    "- create some content\n",
    "- seize world domination\n",
    "- save the planet\n",
    "EOF"
   ]
  },
  {
   "cell_type": "code",
   "execution_count": 7,
   "metadata": {},
   "outputs": [
    {
     "name": "stdout",
     "output_type": "stream",
     "text": [
      "# Test Project 1\n",
      "\n",
      "It is always good to have a README file as a entry point of reading in a project.\n",
      "The file doesn't have to be huge and perfect. As the project develops this file should too.\n",
      "\n",
      "## ToDo\n",
      "\n",
      "- create some content\n",
      "- seize world domination\n",
      "- save the planet\n"
     ]
    }
   ],
   "source": [
    "cat README.md"
   ]
  },
  {
   "cell_type": "code",
   "execution_count": 8,
   "metadata": {},
   "outputs": [
    {
     "name": "stdout",
     "output_type": "stream",
     "text": [
      "On branch master\n",
      "\n",
      "No commits yet\n",
      "\n",
      "Untracked files:\n",
      "  (use \"git add <file>...\" to include in what will be committed)\n",
      "\n",
      "\t\u001b[31mREADME.md\u001b[m\n",
      "\n",
      "nothing added to commit but untracked files present (use \"git add\" to track)\n"
     ]
    }
   ],
   "source": [
    "git status"
   ]
  },
  {
   "cell_type": "markdown",
   "metadata": {},
   "source": [
    "After creating a new file with some content, we can see Git indicate that we have an untracked file. This means we have the file in our working directory but not in our Git repository. Now we can add the file to the `staging` index with the add command. Everything in the staging index is ready to be comitted."
   ]
  },
  {
   "cell_type": "code",
   "execution_count": 9,
   "metadata": {},
   "outputs": [],
   "source": [
    "git add README.md"
   ]
  },
  {
   "cell_type": "code",
   "execution_count": 10,
   "metadata": {},
   "outputs": [
    {
     "name": "stdout",
     "output_type": "stream",
     "text": [
      "On branch master\n",
      "\n",
      "No commits yet\n",
      "\n",
      "Changes to be committed:\n",
      "  (use \"git rm --cached <file>...\" to unstage)\n",
      "\n",
      "\t\u001b[32mnew file:   README.md\u001b[m\n",
      "\n"
     ]
    }
   ],
   "source": [
    "git status"
   ]
  },
  {
   "cell_type": "markdown",
   "metadata": {},
   "source": [
    "Now we are ready for the first commit. But what is a commit? A commit is a snapshot of the changed files. Working with snapshots and not deltas like other solutions gives some benefits. We can imagine a timeline with many commits and now we can easily go to any point of our timeline to see a specific snapshot at the chosen time. In Git we call the timeline a branch and as you can imagine, we can have multiple timelines. As we will see, we can create an new branch, have multiple commits and merge it together with another branch later. This is just one simple use case and as you get to know Git better, you will note this more and more.\n",
    "\n",
    "A commit also has a commit message to describe the snapshot and it is highly recommended to have a commit message convention. For small commits, I prefer a short subject, starting with a verb which describes what the commit does, such as \"Fix typo in README.md\". For more complex commits you can also add more text. In addition, the commit includes the date and the author, plus their name and email address. We have to first set the name and email address before we can create a commit. With `--global` we can set the settings for all the repositories of our user. More information about the Git configuration and the location are available here https://git-scm.com/book/en/v2/Customizing-Git-Git-Configuration"
   ]
  },
  {
   "cell_type": "code",
   "execution_count": 11,
   "metadata": {},
   "outputs": [],
   "source": [
    "git config user.name \"ubaumann\" && git config user.email demo@infrastructureascode.ch"
   ]
  },
  {
   "cell_type": "code",
   "execution_count": 12,
   "metadata": {},
   "outputs": [
    {
     "name": "stdout",
     "output_type": "stream",
     "text": [
      "[master (root-commit) 0d54dcd] Init my awesone project\n",
      " 1 file changed, 10 insertions(+)\n",
      " create mode 100644 README.md\n"
     ]
    }
   ],
   "source": [
    "git commit -m 'Init my awesone project'"
   ]
  },
  {
   "cell_type": "code",
   "execution_count": 13,
   "metadata": {},
   "outputs": [
    {
     "name": "stdout",
     "output_type": "stream",
     "text": [
      "On branch master\n",
      "nothing to commit, working tree clean\n"
     ]
    }
   ],
   "source": [
    "git status"
   ]
  },
  {
   "cell_type": "markdown",
   "metadata": {},
   "source": [
    "Now we have a clean working directory again and one commit. We can check the result with the `log` command to see the history of our branch. At this point everything is only local."
   ]
  },
  {
   "cell_type": "code",
   "execution_count": 14,
   "metadata": {},
   "outputs": [
    {
     "name": "stdout",
     "output_type": "stream",
     "text": [
      "\u001b[33mcommit 0d54dcdf40e77f5a63b9d47fa5e45334b5f320b1\u001b[m\u001b[33m (\u001b[m\u001b[1;36mHEAD -> \u001b[m\u001b[1;32mmaster\u001b[m\u001b[33m)\u001b[m\n",
      "Author: ubaumann <demo@infrastructureascode.ch>\n",
      "Date:   Thu Jul 16 05:21:55 2020 +0200\n",
      "\n",
      "    Init my awesone project\n"
     ]
    }
   ],
   "source": [
    "git log"
   ]
  },
  {
   "cell_type": "markdown",
   "metadata": {},
   "source": [
    "Git is great for working in teams since the repositories are distributed. The normal Git binary can be used for setting up a server but in most cases you will use a special server or a cloud service. Products like GitLab, Bitbucket or GitHub are available as cloud services or can be installed on-premise. This are only a few products to name, and far away from a complete list. If a team in your company already uses a solution it will probably make sense to use the same one.\n",
    "\n",
    "[Sebastian](https://github.com/seboschtion) created a good illustration which explains the Git principals of the working directory, the staging index and the location of the repository."
   ]
  },
  {
   "attachments": {
    "git_sebastian.png": {
     "image/png": "[encoded data removed]"
    }
   },
   "cell_type": "markdown",
   "metadata": {},
   "source": [
    "![git_sebastian.png](attachment:git_sebastian.png)"
   ]
  },
  {
   "cell_type": "markdown",
   "metadata": {},
   "source": [
    "When working on our files we are in the working directory. As soon as we have made some progress and we want to commit it, we have to add the files with `git add` to the staging index. When all the files are ready we can create the commit with `git commit`. This will add the new commit to the branch (timeline) we are working on. All of this is only local and at the same time someone could have the possibility to add a commit and push it into the server. When you are not the only one working on a branch you should pull down potential commits to the local repository before creating the new commit.\n",
    "\n",
    "With the command `git pull` we can synchronize the remote repository with the local one. The command `git push` synchronizes the local repository with the remote one. A repository can have multiple remote ones and can be added easily. If you have Read and Write permissions, this is defined by the remote server and the credentials you use. The default Remote is called `origin` and is added automatically if you clone a repository."
   ]
  },
  {
   "cell_type": "code",
   "execution_count": 15,
   "metadata": {},
   "outputs": [],
   "source": [
    "git remote add origin git@github.com:ubaumann/test1.git"
   ]
  },
  {
   "cell_type": "code",
   "execution_count": 16,
   "metadata": {},
   "outputs": [
    {
     "name": "stdout",
     "output_type": "stream",
     "text": [
      "origin\n"
     ]
    }
   ],
   "source": [
    "git remote"
   ]
  },
  {
   "cell_type": "code",
   "execution_count": 17,
   "metadata": {},
   "outputs": [
    {
     "name": "stdout",
     "output_type": "stream",
     "text": [
      "Counting objects: 3, done.\n",
      "Delta compression using up to 4 threads.\n",
      "Compressing objects: 100% (2/2), done.\n",
      "Writing objects: 100% (3/3), 408 bytes | 408.00 KiB/s, done.\n",
      "Total 3 (delta 0), reused 0 (delta 0)\n",
      "To github.com:ubaumann/test1.git\n",
      " * [new branch]      master -> master\n",
      "Branch 'master' set up to track remote branch 'master' from 'origin'.\n"
     ]
    }
   ],
   "source": [
    "git push -u origin master"
   ]
  },
  {
   "cell_type": "code",
   "execution_count": 18,
   "metadata": {},
   "outputs": [
    {
     "name": "stdout",
     "output_type": "stream",
     "text": [
      "On branch master\n",
      "Your branch is up to date with 'origin/master'.\n",
      "\n",
      "nothing to commit, working tree clean\n"
     ]
    }
   ],
   "source": [
    "git status"
   ]
  },
  {
   "cell_type": "markdown",
   "metadata": {},
   "source": [
    "On the server (in this case GitHub), the repository must exist and the user needs Write permission. Here we use SSH for the communication and the public SSH Key must be stored in your GitHub profile. For the first push we need to set the option `-u` (short for `--set-upstream`) for setting up the mapping to the branch in the remote repository. After the upstream branch is set, `git status` shows if the branch is up to date with it. As a result, we can work, make commits and push them to the Remote and pull changes made on the server or from other contributors.\n",
    "\n",
    "As mentioned above we could also create the repository first on the server and clone it to the local machine. This works the same way as it would be when cloning an existing project. We can use the same repository to show this."
   ]
  },
  {
   "cell_type": "code",
   "execution_count": 19,
   "metadata": {},
   "outputs": [
    {
     "name": "stdout",
     "output_type": "stream",
     "text": [
      "/home/urs/git101\n"
     ]
    }
   ],
   "source": [
    "cd .. && pwd"
   ]
  },
  {
   "cell_type": "code",
   "execution_count": 20,
   "metadata": {},
   "outputs": [
    {
     "name": "stdout",
     "output_type": "stream",
     "text": [
      "Cloning into 'test2'...\n",
      "remote: Enumerating objects: 3, done.\u001b[K\n",
      "remote: Counting objects: 100% (3/3), done.\u001b[K\n",
      "remote: Compressing objects: 100% (2/2), done.\u001b[K\n",
      "remote: Total 3 (delta 0), reused 3 (delta 0), pack-reused 0\u001b[K\n",
      "Receiving objects: 100% (3/3), done.\n"
     ]
    }
   ],
   "source": [
    "git clone git@github.com:ubaumann/test1.git test2"
   ]
  },
  {
   "cell_type": "code",
   "execution_count": 21,
   "metadata": {},
   "outputs": [
    {
     "name": "stdout",
     "output_type": "stream",
     "text": [
      "total 16\n",
      "drwxr-xr-x 3 urs urs 4096 Jul 16 05:25 \u001b[0m\u001b[01;34m.\u001b[0m\n",
      "drwxr-xr-x 5 urs urs 4096 Jul 16 05:25 \u001b[01;34m..\u001b[0m\n",
      "drwxr-xr-x 8 urs urs 4096 Jul 16 05:25 \u001b[01;34m.git\u001b[0m\n",
      "-rw-r--r-- 1 urs urs  267 Jul 16 05:25 README.md\n"
     ]
    }
   ],
   "source": [
    "cd test2 && ls -al"
   ]
  },
  {
   "cell_type": "code",
   "execution_count": 22,
   "metadata": {},
   "outputs": [
    {
     "name": "stdout",
     "output_type": "stream",
     "text": [
      "On branch master\n",
      "Your branch is up to date with 'origin/master'.\n",
      "\n",
      "nothing to commit, working tree clean\n"
     ]
    }
   ],
   "source": [
    "git status"
   ]
  },
  {
   "cell_type": "markdown",
   "metadata": {},
   "source": [
    "After cloning the repository, we get a clean instance in the specified folder `test2`. If the folder is not specified, it would create the folder with the name of the repository `test1`, but in this case this folder already exists. The remote `origin` is already set and the local branch master is set to the upstream `origin/master`, as the command `git status` shows. This works really fast and many people choose to first create the repository on the server and clone it. Most servers display the two possible options with the commands when a new repository is created."
   ]
  },
  {
   "cell_type": "markdown",
   "metadata": {},
   "source": [
    "## Commit\n",
    "\n",
    "This section covers some more options on how to work with the working directory, such as adding files to the staging index, discarding changes and should subsequently help to get started working with Git."
   ]
  },
  {
   "cell_type": "code",
   "execution_count": 23,
   "metadata": {},
   "outputs": [],
   "source": [
    "sed -i 's/some content/some awesome content/' README.md"
   ]
  },
  {
   "cell_type": "code",
   "execution_count": 24,
   "metadata": {},
   "outputs": [],
   "source": [
    "echo \"local temp file\" > tmp.txt"
   ]
  },
  {
   "cell_type": "code",
   "execution_count": 25,
   "metadata": {},
   "outputs": [
    {
     "name": "stdout",
     "output_type": "stream",
     "text": [
      "On branch master\n",
      "Your branch is up to date with 'origin/master'.\n",
      "\n",
      "Changes not staged for commit:\n",
      "  (use \"git add <file>...\" to update what will be committed)\n",
      "  (use \"git checkout -- <file>...\" to discard changes in working directory)\n",
      "\n",
      "\t\u001b[31mmodified:   README.md\u001b[m\n",
      "\n",
      "Untracked files:\n",
      "  (use \"git add <file>...\" to include in what will be committed)\n",
      "\n",
      "\t\u001b[31mtmp.txt\u001b[m\n",
      "\n",
      "no changes added to commit (use \"git add\" and/or \"git commit -a\")\n"
     ]
    }
   ],
   "source": [
    "git status"
   ]
  },
  {
   "cell_type": "markdown",
   "metadata": {},
   "source": [
    "The `git status` shows one modified and one new file. Before adding files to the staging, we can see what we actually changed with `git diff`. This command can also show the difference between commits and branches but here we will only be covering the basics."
   ]
  },
  {
   "cell_type": "code",
   "execution_count": 26,
   "metadata": {},
   "outputs": [
    {
     "name": "stdout",
     "output_type": "stream",
     "text": [
      "\u001b[1mdiff --git a/README.md b/README.md\u001b[m\n",
      "\u001b[1mindex 4267dc1..3504571 100644\u001b[m\n",
      "\u001b[1m--- a/README.md\u001b[m\n",
      "\u001b[1m+++ b/README.md\u001b[m\n",
      "\u001b[36m@@ -5,6 +5,6 @@\u001b[m \u001b[mThe file doesn't have to be huge and perfect. As the project develops this file\u001b[m\n",
      " \u001b[m\n",
      " ## ToDo\u001b[m\n",
      " \u001b[m\n",
      "\u001b[31m-- create some content\u001b[m\n",
      "\u001b[32m+\u001b[m\u001b[32m- create some awesome content\u001b[m\n",
      " - seize world domination\u001b[m\n",
      " - save the planet\u001b[m\n"
     ]
    }
   ],
   "source": [
    "git diff"
   ]
  },
  {
   "cell_type": "markdown",
   "metadata": {},
   "source": [
    "The diff shows the part of the files with the changes. This is handy to check the changes before creating a commit. To see only the changes in one file, the path to the file can be specified like `git diff README.md`.\n",
    "\n",
    "When we are satisfied with the change we can add the file to the staging index and create a new commit. This works well with one or two files, but how can we handle it when we have many files?"
   ]
  },
  {
   "cell_type": "code",
   "execution_count": 27,
   "metadata": {},
   "outputs": [
    {
     "name": "stdout",
     "output_type": "stream",
     "text": [
      "a.txt  b.txt  c.txt  d.txt  e.txt  f.txt  g.txt\n"
     ]
    }
   ],
   "source": [
    "mkdir files && touch files/{a..g}.txt && ls files"
   ]
  },
  {
   "cell_type": "code",
   "execution_count": 28,
   "metadata": {},
   "outputs": [
    {
     "name": "stdout",
     "output_type": "stream",
     "text": [
      "On branch master\n",
      "Your branch is up to date with 'origin/master'.\n",
      "\n",
      "Changes not staged for commit:\n",
      "  (use \"git add <file>...\" to update what will be committed)\n",
      "  (use \"git checkout -- <file>...\" to discard changes in working directory)\n",
      "\n",
      "\t\u001b[31mmodified:   README.md\u001b[m\n",
      "\n",
      "Untracked files:\n",
      "  (use \"git add <file>...\" to include in what will be committed)\n",
      "\n",
      "\t\u001b[31mfiles/a.txt\u001b[m\n",
      "\t\u001b[31mfiles/b.txt\u001b[m\n",
      "\t\u001b[31mfiles/c.txt\u001b[m\n",
      "\t\u001b[31mfiles/d.txt\u001b[m\n",
      "\t\u001b[31mfiles/e.txt\u001b[m\n",
      "\t\u001b[31mfiles/f.txt\u001b[m\n",
      "\t\u001b[31mfiles/g.txt\u001b[m\n",
      "\t\u001b[31mtmp.txt\u001b[m\n",
      "\n",
      "no changes added to commit (use \"git add\" and/or \"git commit -a\")\n"
     ]
    }
   ],
   "source": [
    "git status --untracked-files=all"
   ]
  },
  {
   "cell_type": "markdown",
   "metadata": {},
   "source": [
    "After creating some files we can check if Git recognized them. The option `--untracked-files=all` shows untracked files in subdirectory as well. Without this option, the output would only show the subdirectory name and we could use `git status files/` to see more details. The `git add` command supports fileglobs like `files/*.txt`. So how could we add the files a.txt, b.txt and c.txt with one command to the staging?"
   ]
  },
  {
   "cell_type": "code",
   "execution_count": 29,
   "metadata": {},
   "outputs": [
    {
     "name": "stdout",
     "output_type": "stream",
     "text": [
      "On branch master\n",
      "Your branch is up to date with 'origin/master'.\n",
      "\n",
      "Changes to be committed:\n",
      "  (use \"git reset HEAD <file>...\" to unstage)\n",
      "\n",
      "\t\u001b[32mnew file:   files/a.txt\u001b[m\n",
      "\t\u001b[32mnew file:   files/b.txt\u001b[m\n",
      "\t\u001b[32mnew file:   files/c.txt\u001b[m\n",
      "\n",
      "Changes not staged for commit:\n",
      "  (use \"git add <file>...\" to update what will be committed)\n",
      "  (use \"git checkout -- <file>...\" to discard changes in working directory)\n",
      "\n",
      "\t\u001b[31mmodified:   README.md\u001b[m\n",
      "\n",
      "Untracked files:\n",
      "  (use \"git add <file>...\" to include in what will be committed)\n",
      "\n",
      "\t\u001b[31mfiles/d.txt\u001b[m\n",
      "\t\u001b[31mfiles/e.txt\u001b[m\n",
      "\t\u001b[31mfiles/f.txt\u001b[m\n",
      "\t\u001b[31mfiles/g.txt\u001b[m\n",
      "\t\u001b[31mtmp.txt\u001b[m\n",
      "\n"
     ]
    }
   ],
   "source": [
    "git add files/[a-c].txt && git status"
   ]
  },
  {
   "cell_type": "code",
   "execution_count": 30,
   "metadata": {},
   "outputs": [
    {
     "name": "stdout",
     "output_type": "stream",
     "text": [
      "Already up to date.\n"
     ]
    }
   ],
   "source": [
    "git pull"
   ]
  },
  {
   "cell_type": "code",
   "execution_count": 31,
   "metadata": {},
   "outputs": [
    {
     "name": "stdout",
     "output_type": "stream",
     "text": [
      "[master 62ff61d] Add files/[a-c].txt\n",
      " 3 files changed, 0 insertions(+), 0 deletions(-)\n",
      " create mode 100644 files/a.txt\n",
      " create mode 100644 files/b.txt\n",
      " create mode 100644 files/c.txt\n"
     ]
    }
   ],
   "source": [
    "git commit -m \"Add files/[a-c].txt\""
   ]
  },
  {
   "cell_type": "code",
   "execution_count": 32,
   "metadata": {},
   "outputs": [
    {
     "name": "stdout",
     "output_type": "stream",
     "text": [
      "Counting objects: 4, done.\n",
      "Delta compression using up to 4 threads.\n",
      "Compressing objects: 100% (3/3), done.\n",
      "Writing objects: 100% (4/4), 332 bytes | 332.00 KiB/s, done.\n",
      "Total 4 (delta 0), reused 0 (delta 0)\n",
      "To github.com:ubaumann/test1.git\n",
      "   0d54dcd..62ff61d  master -> master\n"
     ]
    }
   ],
   "source": [
    "git push"
   ]
  },
  {
   "cell_type": "code",
   "execution_count": 33,
   "metadata": {},
   "outputs": [
    {
     "name": "stdout",
     "output_type": "stream",
     "text": [
      "On branch master\n",
      "Your branch is up to date with 'origin/master'.\n",
      "\n",
      "Changes not staged for commit:\n",
      "  (use \"git add <file>...\" to update what will be committed)\n",
      "  (use \"git checkout -- <file>...\" to discard changes in working directory)\n",
      "\n",
      "\t\u001b[31mmodified:   README.md\u001b[m\n",
      "\n",
      "Untracked files:\n",
      "  (use \"git add <file>...\" to include in what will be committed)\n",
      "\n",
      "\t\u001b[31mfiles/d.txt\u001b[m\n",
      "\t\u001b[31mfiles/e.txt\u001b[m\n",
      "\t\u001b[31mfiles/f.txt\u001b[m\n",
      "\t\u001b[31mfiles/g.txt\u001b[m\n",
      "\t\u001b[31mtmp.txt\u001b[m\n",
      "\n",
      "no changes added to commit (use \"git add\" and/or \"git commit -a\")\n"
     ]
    }
   ],
   "source": [
    "git status --untracked-files=all"
   ]
  },
  {
   "cell_type": "markdown",
   "metadata": {},
   "source": [
    "Sooner or later we may want to delete a file in our working directory. Let's use the committed file `files/a.txt` to show the difference between just deleting the file on the file system with `rm` or by using the git command `git rm`."
   ]
  },
  {
   "cell_type": "code",
   "execution_count": 34,
   "metadata": {},
   "outputs": [
    {
     "name": "stdout",
     "output_type": "stream",
     "text": [
      "rm 'files/a.txt'\n"
     ]
    }
   ],
   "source": [
    "git rm files/a.txt"
   ]
  },
  {
   "cell_type": "code",
   "execution_count": 35,
   "metadata": {},
   "outputs": [
    {
     "name": "stdout",
     "output_type": "stream",
     "text": [
      "b.txt  c.txt  d.txt  e.txt  f.txt  g.txt\n"
     ]
    }
   ],
   "source": [
    "ls files"
   ]
  },
  {
   "cell_type": "code",
   "execution_count": 36,
   "metadata": {},
   "outputs": [
    {
     "name": "stdout",
     "output_type": "stream",
     "text": [
      "On branch master\n",
      "Your branch is up to date with 'origin/master'.\n",
      "\n",
      "Changes to be committed:\n",
      "  (use \"git reset HEAD <file>...\" to unstage)\n",
      "\n",
      "\t\u001b[32mdeleted:    files/a.txt\u001b[m\n",
      "\n",
      "Changes not staged for commit:\n",
      "  (use \"git add <file>...\" to update what will be committed)\n",
      "  (use \"git checkout -- <file>...\" to discard changes in working directory)\n",
      "\n",
      "\t\u001b[31mmodified:   README.md\u001b[m\n",
      "\n",
      "Untracked files:\n",
      "  (use \"git add <file>...\" to include in what will be committed)\n",
      "\n",
      "\t\u001b[31mfiles/d.txt\u001b[m\n",
      "\t\u001b[31mfiles/e.txt\u001b[m\n",
      "\t\u001b[31mfiles/f.txt\u001b[m\n",
      "\t\u001b[31mfiles/g.txt\u001b[m\n",
      "\t\u001b[31mtmp.txt\u001b[m\n",
      "\n"
     ]
    }
   ],
   "source": [
    "git status"
   ]
  },
  {
   "cell_type": "markdown",
   "metadata": {},
   "source": [
    "With the command `git rm files/a.txt` the file is erased on the filesystem and the change is already staged thus included in the next commit. As the status output indicates, we can unstage the change."
   ]
  },
  {
   "cell_type": "code",
   "execution_count": 37,
   "metadata": {},
   "outputs": [
    {
     "name": "stdout",
     "output_type": "stream",
     "text": [
      "Unstaged changes after reset:\n",
      "M\tREADME.md\n",
      "D\tfiles/a.txt\n"
     ]
    }
   ],
   "source": [
    "git reset HEAD files/a.txt"
   ]
  },
  {
   "cell_type": "code",
   "execution_count": 38,
   "metadata": {},
   "outputs": [
    {
     "name": "stdout",
     "output_type": "stream",
     "text": [
      "On branch master\n",
      "Your branch is up to date with 'origin/master'.\n",
      "\n",
      "Changes not staged for commit:\n",
      "  (use \"git add/rm <file>...\" to update what will be committed)\n",
      "  (use \"git checkout -- <file>...\" to discard changes in working directory)\n",
      "\n",
      "\t\u001b[31mmodified:   README.md\u001b[m\n",
      "\t\u001b[31mdeleted:    files/a.txt\u001b[m\n",
      "\n",
      "Untracked files:\n",
      "  (use \"git add <file>...\" to include in what will be committed)\n",
      "\n",
      "\t\u001b[31mfiles/d.txt\u001b[m\n",
      "\t\u001b[31mfiles/e.txt\u001b[m\n",
      "\t\u001b[31mfiles/f.txt\u001b[m\n",
      "\t\u001b[31mfiles/g.txt\u001b[m\n",
      "\t\u001b[31mtmp.txt\u001b[m\n",
      "\n",
      "no changes added to commit (use \"git add\" and/or \"git commit -a\")\n"
     ]
    }
   ],
   "source": [
    "git status"
   ]
  },
  {
   "cell_type": "code",
   "execution_count": 39,
   "metadata": {},
   "outputs": [
    {
     "name": "stdout",
     "output_type": "stream",
     "text": [
      "b.txt  c.txt  d.txt  e.txt  f.txt  g.txt\n"
     ]
    }
   ],
   "source": [
    "ls files"
   ]
  },
  {
   "cell_type": "markdown",
   "metadata": {},
   "source": [
    "The file is still erased on the file system but the change is not staged and will be not included in the commit. Because Git still has the file in the last commit, we can discard the change and bring our file back."
   ]
  },
  {
   "cell_type": "code",
   "execution_count": 40,
   "metadata": {},
   "outputs": [
    {
     "name": "stdout",
     "output_type": "stream",
     "text": [
      "a.txt  b.txt  c.txt  d.txt  e.txt  f.txt  g.txt\n"
     ]
    }
   ],
   "source": [
    "git checkout -- files/a.txt && ls files"
   ]
  },
  {
   "cell_type": "markdown",
   "metadata": {},
   "source": [
    "When the files get deleted directly on the file system it will show up as a non staged change."
   ]
  },
  {
   "cell_type": "code",
   "execution_count": 41,
   "metadata": {},
   "outputs": [
    {
     "name": "stdout",
     "output_type": "stream",
     "text": [
      "On branch master\n",
      "Your branch is up to date with 'origin/master'.\n",
      "\n",
      "Changes not staged for commit:\n",
      "  (use \"git add/rm <file>...\" to update what will be committed)\n",
      "  (use \"git checkout -- <file>...\" to discard changes in working directory)\n",
      "\n",
      "\t\u001b[31mmodified:   README.md\u001b[m\n",
      "\t\u001b[31mdeleted:    files/a.txt\u001b[m\n",
      "\n",
      "Untracked files:\n",
      "  (use \"git add <file>...\" to include in what will be committed)\n",
      "\n",
      "\t\u001b[31mfiles/d.txt\u001b[m\n",
      "\t\u001b[31mfiles/e.txt\u001b[m\n",
      "\t\u001b[31mfiles/f.txt\u001b[m\n",
      "\t\u001b[31mfiles/g.txt\u001b[m\n",
      "\t\u001b[31mtmp.txt\u001b[m\n",
      "\n",
      "no changes added to commit (use \"git add\" and/or \"git commit -a\")\n"
     ]
    }
   ],
   "source": [
    "rm files/a.txt && git status"
   ]
  },
  {
   "cell_type": "markdown",
   "metadata": {},
   "source": [
    "To stage this change, we have to add it to the staging area. The command `add` and `rm` would work here but since the file is already deleted, we will use `add` in this example."
   ]
  },
  {
   "cell_type": "code",
   "execution_count": 42,
   "metadata": {},
   "outputs": [
    {
     "name": "stdout",
     "output_type": "stream",
     "text": [
      "On branch master\n",
      "Your branch is up to date with 'origin/master'.\n",
      "\n",
      "Changes to be committed:\n",
      "  (use \"git reset HEAD <file>...\" to unstage)\n",
      "\n",
      "\t\u001b[32mdeleted:    files/a.txt\u001b[m\n",
      "\n",
      "Changes not staged for commit:\n",
      "  (use \"git add <file>...\" to update what will be committed)\n",
      "  (use \"git checkout -- <file>...\" to discard changes in working directory)\n",
      "\n",
      "\t\u001b[31mmodified:   README.md\u001b[m\n",
      "\n",
      "Untracked files:\n",
      "  (use \"git add <file>...\" to include in what will be committed)\n",
      "\n",
      "\t\u001b[31mfiles/d.txt\u001b[m\n",
      "\t\u001b[31mfiles/e.txt\u001b[m\n",
      "\t\u001b[31mfiles/f.txt\u001b[m\n",
      "\t\u001b[31mfiles/g.txt\u001b[m\n",
      "\t\u001b[31mtmp.txt\u001b[m\n",
      "\n"
     ]
    }
   ],
   "source": [
    "git add files/a.txt && git status"
   ]
  },
  {
   "cell_type": "markdown",
   "metadata": {},
   "source": [
    "As seen above, the reset command can remove files from the staging index. This is handy when we accidentally add a file. Without specifying a file, we can remove all files from the staging. If a file is added and more changes have to be done, the file can simply be added again to include the change in the commit. There are still some essential things to know about `git add`."
   ]
  },
  {
   "cell_type": "code",
   "execution_count": 43,
   "metadata": {},
   "outputs": [
    {
     "name": "stdout",
     "output_type": "stream",
     "text": [
      "Unstaged changes after reset:\n",
      "M\tREADME.md\n",
      "D\tfiles/a.txt\n"
     ]
    }
   ],
   "source": [
    "git reset HEAD"
   ]
  },
  {
   "cell_type": "code",
   "execution_count": 44,
   "metadata": {},
   "outputs": [
    {
     "name": "stdout",
     "output_type": "stream",
     "text": [
      "add 'README.md'\n",
      "remove 'files/a.txt'\n",
      "add 'files/d.txt'\n",
      "add 'files/e.txt'\n",
      "add 'files/f.txt'\n",
      "add 'files/g.txt'\n",
      "add 'tmp.txt'\n"
     ]
    }
   ],
   "source": [
    "git add --dry-run ."
   ]
  },
  {
   "cell_type": "markdown",
   "metadata": {},
   "source": [
    "The option `--dry-run` allows to see what the `add` command would add to the staging area. This allows to see how the different options work. In the example above, the root directory is specified (with the `.`) and all changed and untracked files will be added. "
   ]
  },
  {
   "cell_type": "code",
   "execution_count": 45,
   "metadata": {},
   "outputs": [
    {
     "name": "stdout",
     "output_type": "stream",
     "text": [
      "remove 'files/a.txt'\n",
      "add 'files/d.txt'\n",
      "add 'files/e.txt'\n",
      "add 'files/f.txt'\n",
      "add 'files/g.txt'\n"
     ]
    }
   ],
   "source": [
    "git add --dry-run files"
   ]
  },
  {
   "cell_type": "code",
   "execution_count": 46,
   "metadata": {},
   "outputs": [
    {
     "name": "stdout",
     "output_type": "stream",
     "text": [
      "add 'README.md'\n",
      "add 'files/d.txt'\n",
      "add 'files/e.txt'\n",
      "add 'files/f.txt'\n",
      "add 'files/g.txt'\n",
      "add 'tmp.txt'\n"
     ]
    }
   ],
   "source": [
    "git add --dry-run --no-all ."
   ]
  },
  {
   "cell_type": "markdown",
   "metadata": {},
   "source": [
    "To ignore the removed files, `--no-all` or `--ignore-removal` can be used. In all these examples, the file `tmp.txt` is always included but some files like temporary files or local settings, we do not want to commit. For this we can use `gitignore` and the simplest way is to create the `.gitignore` file in the root directory of the repository and then add the patterns to match the files that are to be excluded."
   ]
  },
  {
   "cell_type": "code",
   "execution_count": 47,
   "metadata": {},
   "outputs": [
    {
     "name": "stdout",
     "output_type": "stream",
     "text": [
      "add 'README.md'\n",
      "remove 'files/a.txt'\n",
      "add '.gitignore'\n",
      "add 'files/d.txt'\n",
      "add 'files/e.txt'\n",
      "add 'files/f.txt'\n",
      "add 'files/g.txt'\n"
     ]
    }
   ],
   "source": [
    "echo \"tmp.txt\" >> .gitignore && git add --dry-run ."
   ]
  },
  {
   "cell_type": "markdown",
   "metadata": {},
   "source": [
    "It is recommended to keep the `git status` output always clean. It can save a lot of time. After adding changes to the staging index, a commit has to be created. The `commit` command also has an option `-a` (`--all`) to automatically stage all modified or deleted files but will not add untracked files."
   ]
  },
  {
   "cell_type": "code",
   "execution_count": 48,
   "metadata": {},
   "outputs": [
    {
     "name": "stdout",
     "output_type": "stream",
     "text": [
      "[master 911acd3] Update README and delete files/a.txt\n",
      " 2 files changed, 1 insertion(+), 1 deletion(-)\n",
      " delete mode 100644 files/a.txt\n"
     ]
    }
   ],
   "source": [
    "git commit -a -m \"Update README and delete files/a.txt\""
   ]
  },
  {
   "cell_type": "code",
   "execution_count": 49,
   "metadata": {},
   "outputs": [
    {
     "name": "stdout",
     "output_type": "stream",
     "text": [
      "\u001b[33m911acd3\u001b[m\u001b[33m (\u001b[m\u001b[1;36mHEAD -> \u001b[m\u001b[1;32mmaster\u001b[m\u001b[33m)\u001b[m Update README and delete files/a.txt\n",
      "\u001b[1mdiff --git a/README.md b/README.md\u001b[m\n",
      "\u001b[1mindex 4267dc1..3504571 100644\u001b[m\n",
      "\u001b[1m--- a/README.md\u001b[m\n",
      "\u001b[1m+++ b/README.md\u001b[m\n",
      "\u001b[36m@@ -5,6 +5,6 @@\u001b[m \u001b[mThe file doesn't have to be huge and perfect. As the project develops this file\u001b[m\n",
      " \u001b[m\n",
      " ## ToDo\u001b[m\n",
      " \u001b[m\n",
      "\u001b[31m-- create some content\u001b[m\n",
      "\u001b[32m+\u001b[m\u001b[32m- create some awesome content\u001b[m\n",
      " - seize world domination\u001b[m\n",
      " - save the planet\u001b[m\n",
      "\u001b[1mdiff --git a/files/a.txt b/files/a.txt\u001b[m\n",
      "\u001b[1mdeleted file mode 100644\u001b[m\n",
      "\u001b[1mindex e69de29..0000000\u001b[m\n"
     ]
    }
   ],
   "source": [
    "git show --oneline"
   ]
  },
  {
   "cell_type": "markdown",
   "metadata": {},
   "source": [
    "Every commit needs a commit message and whenever we have not specified the option `-m` (`--message`), the editor opens and the message can then be entered. An empty message aborts the commit. The message option can be used multiple times and is handy when you want to add more text but don't want to use the editor."
   ]
  },
  {
   "cell_type": "code",
   "execution_count": 50,
   "metadata": {},
   "outputs": [],
   "source": [
    "git add .gitignore"
   ]
  },
  {
   "cell_type": "code",
   "execution_count": 51,
   "metadata": {},
   "outputs": [
    {
     "name": "stdout",
     "output_type": "stream",
     "text": [
      "[master 092c5ec] Add .gitignore\n",
      " 1 file changed, 1 insertion(+)\n",
      " create mode 100644 .gitignore\n"
     ]
    }
   ],
   "source": [
    "git commit -m \"Add .gitignore\" -m \"The file 'tmp.txt' should be excluded\""
   ]
  },
  {
   "cell_type": "code",
   "execution_count": 52,
   "metadata": {},
   "outputs": [
    {
     "name": "stdout",
     "output_type": "stream",
     "text": [
      "Add .gitignore\n",
      "\n",
      "The file 'tmp.txt' should be excluded\n",
      "\n"
     ]
    }
   ],
   "source": [
    "git log -1 --format=%B"
   ]
  },
  {
   "cell_type": "markdown",
   "metadata": {},
   "source": [
    "Git and all the Git commands are really powerful and little by little you will discover more options. Above the format option is used only to show the raw body message. `git <command> --help` is always a good start to look for help."
   ]
  },
  {
   "cell_type": "code",
   "execution_count": 53,
   "metadata": {},
   "outputs": [
    {
     "name": "stdout",
     "output_type": "stream",
     "text": [
      "Counting objects: 7, done.\n",
      "Delta compression using up to 4 threads.\n",
      "Compressing objects: 100% (6/6), done.\n",
      "Writing objects: 100% (7/7), 691 bytes | 345.00 KiB/s, done.\n",
      "Total 7 (delta 1), reused 0 (delta 0)\n",
      "remote: Resolving deltas: 100% (1/1), completed with 1 local object.\u001b[K\n",
      "To github.com:ubaumann/test1.git\n",
      "   62ff61d..092c5ec  master -> master\n"
     ]
    }
   ],
   "source": [
    "git push"
   ]
  },
  {
   "cell_type": "markdown",
   "metadata": {},
   "source": [
    "## Branching / GitFlow\n",
    "\n",
    "Branching is nothing new and is not only available in Git, but because Git works with snapshots, it is a really lightweight operation. This really changes the way how to work with branches. There are many good resources available online about Git Flow and how to work with branches. It always depends on the project but for most projects it is good practice to have a `master` branch with the stable release and a `develop` branch with a working in development version of your project, from which we  create for every new feature a separate branch. Do all the work, test it and merge it back in to the `develop`.\n",
    "\n",
    "For example, take a repository with a docker-compose file and all the necessary files. The `master` branch would be the version  running in production, while the `develop` branch would be running in the testing environment and for every change a new branch wowuld have to be created from the `develop` branch, tested and merged back to the `develop` branch. \n",
    "When the `develop` branch is stable, a new version can be created and merged into the `master` so it can be deployed in production. \n",
    "Multiple new features can be developed at the same time from different engineers."
   ]
  },
  {
   "cell_type": "code",
   "execution_count": 54,
   "metadata": {},
   "outputs": [
    {
     "name": "stdout",
     "output_type": "stream",
     "text": [
      "* \u001b[32mmaster\u001b[m\n"
     ]
    }
   ],
   "source": [
    "git branch"
   ]
  },
  {
   "cell_type": "code",
   "execution_count": 55,
   "metadata": {},
   "outputs": [],
   "source": [
    "git branch develop"
   ]
  },
  {
   "cell_type": "code",
   "execution_count": 56,
   "metadata": {},
   "outputs": [
    {
     "name": "stdout",
     "output_type": "stream",
     "text": [
      "  develop\u001b[m\n",
      "* \u001b[32mmaster\u001b[m\n"
     ]
    }
   ],
   "source": [
    "git branch"
   ]
  },
  {
   "cell_type": "markdown",
   "metadata": {},
   "source": [
    "The command `git branch develop` creates from the current position a new branch `develop`, but the working directory is still on the branch `master`. Furthermore, the remote does not know anything about the new branch."
   ]
  },
  {
   "cell_type": "code",
   "execution_count": 57,
   "metadata": {},
   "outputs": [
    {
     "name": "stdout",
     "output_type": "stream",
     "text": [
      "Switched to branch 'develop'\n"
     ]
    }
   ],
   "source": [
    "git checkout develop"
   ]
  },
  {
   "cell_type": "code",
   "execution_count": 58,
   "metadata": {},
   "outputs": [
    {
     "name": "stdout",
     "output_type": "stream",
     "text": [
      "Total 0 (delta 0), reused 0 (delta 0)\n",
      "remote: \n",
      "remote: Create a pull request for 'develop' on GitHub by visiting:\u001b[K\n",
      "remote:      https://github.com/ubaumann/test1/pull/new/develop\u001b[K\n",
      "remote: \n",
      "To github.com:ubaumann/test1.git\n",
      " * [new branch]      develop -> develop\n",
      "Branch 'develop' set up to track remote branch 'develop' from 'origin'.\n"
     ]
    }
   ],
   "source": [
    "git push -u origin develop"
   ]
  },
  {
   "cell_type": "code",
   "execution_count": 59,
   "metadata": {},
   "outputs": [
    {
     "name": "stdout",
     "output_type": "stream",
     "text": [
      "On branch develop\n",
      "Your branch is up to date with 'origin/develop'.\n",
      "\n",
      "Untracked files:\n",
      "  (use \"git add <file>...\" to include in what will be committed)\n",
      "\n",
      "\t\u001b[31mfiles/d.txt\u001b[m\n",
      "\t\u001b[31mfiles/e.txt\u001b[m\n",
      "\t\u001b[31mfiles/f.txt\u001b[m\n",
      "\t\u001b[31mfiles/g.txt\u001b[m\n",
      "\n",
      "nothing added to commit but untracked files present (use \"git add\" to track)\n"
     ]
    }
   ],
   "source": [
    "git status"
   ]
  },
  {
   "cell_type": "markdown",
   "metadata": {},
   "source": [
    "Switching between branches can be done with the command `checkout` and with the push option `-u` (`--set-upstream`) we defined to upstream branch. Now the remote repository also has the branch `develop`. Creating new branches and checking them out is an often needed operation and luckily there is a shorter way to do it. The command `checkout` offers an option `-b` to create the new branch directly. To demonstrate, let's create two feature branches and add a new file. It is important to start from the `develop` branch."
   ]
  },
  {
   "cell_type": "code",
   "execution_count": 60,
   "metadata": {},
   "outputs": [
    {
     "name": "stdout",
     "output_type": "stream",
     "text": [
      "Already up to date.\n"
     ]
    }
   ],
   "source": [
    "git pull"
   ]
  },
  {
   "cell_type": "code",
   "execution_count": 61,
   "metadata": {},
   "outputs": [
    {
     "name": "stdout",
     "output_type": "stream",
     "text": [
      "Switched to a new branch 'feature1'\n"
     ]
    }
   ],
   "source": [
    "git checkout -b feature1"
   ]
  },
  {
   "cell_type": "code",
   "execution_count": 62,
   "metadata": {},
   "outputs": [
    {
     "name": "stdout",
     "output_type": "stream",
     "text": [
      "[feature1 9c48850] Add f1\n",
      " 1 file changed, 1 insertion(+)\n",
      " create mode 100644 f1.txt\n"
     ]
    }
   ],
   "source": [
    "echo \"Feature 1\" > f1.txt && git add f1.txt && git commit -m \"Add f1\""
   ]
  },
  {
   "cell_type": "code",
   "execution_count": 63,
   "metadata": {},
   "outputs": [
    {
     "name": "stdout",
     "output_type": "stream",
     "text": [
      "Counting objects: 3, done.\n",
      "Delta compression using up to 4 threads.\n",
      "Compressing objects: 100% (2/2), done.\n",
      "Writing objects: 100% (3/3), 339 bytes | 339.00 KiB/s, done.\n",
      "Total 3 (delta 0), reused 0 (delta 0)\n",
      "remote: \n",
      "remote: Create a pull request for 'feature1' on GitHub by visiting:\u001b[K\n",
      "remote:      https://github.com/ubaumann/test1/pull/new/feature1\u001b[K\n",
      "remote: \n",
      "To github.com:ubaumann/test1.git\n",
      " * [new branch]      feature1 -> feature1\n",
      "Branch 'feature1' set up to track remote branch 'feature1' from 'origin'.\n"
     ]
    }
   ],
   "source": [
    "git push -u origin feature1"
   ]
  },
  {
   "cell_type": "code",
   "execution_count": 64,
   "metadata": {},
   "outputs": [
    {
     "name": "stdout",
     "output_type": "stream",
     "text": [
      "Switched to branch 'develop'\n",
      "Your branch is up to date with 'origin/develop'.\n"
     ]
    }
   ],
   "source": [
    "git checkout develop"
   ]
  },
  {
   "cell_type": "code",
   "execution_count": 65,
   "metadata": {},
   "outputs": [
    {
     "name": "stdout",
     "output_type": "stream",
     "text": [
      "Switched to a new branch 'feature2'\n"
     ]
    }
   ],
   "source": [
    "git checkout -b feature2"
   ]
  },
  {
   "cell_type": "code",
   "execution_count": 66,
   "metadata": {},
   "outputs": [
    {
     "name": "stdout",
     "output_type": "stream",
     "text": [
      "[feature2 3bfd8d9] Add f2\n",
      " 1 file changed, 1 insertion(+)\n",
      " create mode 100644 f2.txt\n"
     ]
    }
   ],
   "source": [
    "echo \"Feature 2\" > f2.txt && git add f2.txt && git commit -m \"Add f2\""
   ]
  },
  {
   "cell_type": "code",
   "execution_count": 67,
   "metadata": {},
   "outputs": [
    {
     "name": "stdout",
     "output_type": "stream",
     "text": [
      "Counting objects: 3, done.\n",
      "Delta compression using up to 4 threads.\n",
      "Compressing objects: 100% (2/2), done.\n",
      "Writing objects: 100% (3/3), 337 bytes | 337.00 KiB/s, done.\n",
      "Total 3 (delta 0), reused 0 (delta 0)\n",
      "remote: \n",
      "remote: Create a pull request for 'feature2' on GitHub by visiting:\u001b[K\n",
      "remote:      https://github.com/ubaumann/test1/pull/new/feature2\u001b[K\n",
      "remote: \n",
      "To github.com:ubaumann/test1.git\n",
      " * [new branch]      feature2 -> feature2\n",
      "Branch 'feature2' set up to track remote branch 'feature2' from 'origin'.\n"
     ]
    }
   ],
   "source": [
    "git push -u origin feature2"
   ]
  },
  {
   "cell_type": "code",
   "execution_count": 68,
   "metadata": {},
   "outputs": [
    {
     "name": "stdout",
     "output_type": "stream",
     "text": [
      "Switched to branch 'develop'\n",
      "Your branch is up to date with 'origin/develop'.\n"
     ]
    }
   ],
   "source": [
    "git checkout develop"
   ]
  },
  {
   "cell_type": "code",
   "execution_count": 69,
   "metadata": {},
   "outputs": [
    {
     "name": "stdout",
     "output_type": "stream",
     "text": [
      "\u001b[33m092c5ec\u001b[m\u001b[33m (\u001b[m\u001b[1;36mHEAD -> \u001b[m\u001b[1;32mdevelop\u001b[m\u001b[33m, \u001b[m\u001b[1;31morigin/master\u001b[m\u001b[33m, \u001b[m\u001b[1;31morigin/develop\u001b[m\u001b[33m, \u001b[m\u001b[1;31morigin/HEAD\u001b[m\u001b[33m, \u001b[m\u001b[1;32mmaster\u001b[m\u001b[33m)\u001b[m Add .gitignore\n",
      "\u001b[33m911acd3\u001b[m Update README and delete files/a.txt\n",
      "\u001b[33m62ff61d\u001b[m Add files/[a-c].txt\n",
      "\u001b[33m0d54dcd\u001b[m Init my awesone project\n"
     ]
    }
   ],
   "source": [
    "git log --oneline"
   ]
  },
  {
   "cell_type": "markdown",
   "metadata": {},
   "source": [
    "After creating two new branches, adding files and pushing it to the remote, the `develop` branch is still on the same state. A branch can definitely have multiple commits but we keep it simple here. With `git log` has many options and we can use it to see the new commits as well."
   ]
  },
  {
   "cell_type": "code",
   "execution_count": 70,
   "metadata": {},
   "outputs": [
    {
     "name": "stdout",
     "output_type": "stream",
     "text": [
      "* \u001b[33m3bfd8d9\u001b[m\u001b[33m (\u001b[m\u001b[1;31morigin/feature2\u001b[m\u001b[33m, \u001b[m\u001b[1;32mfeature2\u001b[m\u001b[33m)\u001b[m Add f2\n",
      "\u001b[31m|\u001b[m * \u001b[33m9c48850\u001b[m\u001b[33m (\u001b[m\u001b[1;31morigin/feature1\u001b[m\u001b[33m, \u001b[m\u001b[1;32mfeature1\u001b[m\u001b[33m)\u001b[m Add f1\n",
      "\u001b[31m|\u001b[m\u001b[31m/\u001b[m  \n",
      "* \u001b[33m092c5ec\u001b[m\u001b[33m (\u001b[m\u001b[1;36mHEAD -> \u001b[m\u001b[1;32mdevelop\u001b[m\u001b[33m, \u001b[m\u001b[1;31morigin/master\u001b[m\u001b[33m, \u001b[m\u001b[1;31morigin/develop\u001b[m\u001b[33m, \u001b[m\u001b[1;31morigin/HEAD\u001b[m\u001b[33m, \u001b[m\u001b[1;32mmaster\u001b[m\u001b[33m)\u001b[m Add .gitignore\n",
      "* \u001b[33m911acd3\u001b[m Update README and delete files/a.txt\n",
      "* \u001b[33m62ff61d\u001b[m Add files/[a-c].txt\n",
      "* \u001b[33m0d54dcd\u001b[m Init my awesone project\n"
     ]
    }
   ],
   "source": [
    "git log --all --oneline --graph"
   ]
  },
  {
   "cell_type": "markdown",
   "metadata": {},
   "source": [
    "Many GUI tools can possibly display this more nicely and the option format can be used to tweak the output. The `develop` and `master` branch are still at point when we add the `.gitignore` and the two new branches have each one more. With `git merge` we can merge the new features into our branch."
   ]
  },
  {
   "cell_type": "code",
   "execution_count": 71,
   "metadata": {},
   "outputs": [
    {
     "name": "stdout",
     "output_type": "stream",
     "text": [
      "Updating 092c5ec..9c48850\n",
      "Fast-forward\n",
      " f1.txt | 1 \u001b[32m+\u001b[m\n",
      " 1 file changed, 1 insertion(+)\n",
      " create mode 100644 f1.txt\n"
     ]
    }
   ],
   "source": [
    "git merge feature1"
   ]
  },
  {
   "cell_type": "code",
   "execution_count": 72,
   "metadata": {},
   "outputs": [
    {
     "name": "stdout",
     "output_type": "stream",
     "text": [
      "On branch develop\n",
      "Your branch is ahead of 'origin/develop' by 1 commit.\n",
      "  (use \"git push\" to publish your local commits)\n",
      "\n",
      "Untracked files:\n",
      "  (use \"git add <file>...\" to include in what will be committed)\n",
      "\n",
      "\t\u001b[31mfiles/d.txt\u001b[m\n",
      "\t\u001b[31mfiles/e.txt\u001b[m\n",
      "\t\u001b[31mfiles/f.txt\u001b[m\n",
      "\t\u001b[31mfiles/g.txt\u001b[m\n",
      "\n",
      "nothing added to commit but untracked files present (use \"git add\" to track)\n"
     ]
    }
   ],
   "source": [
    "git status"
   ]
  },
  {
   "cell_type": "code",
   "execution_count": 73,
   "metadata": {},
   "outputs": [
    {
     "name": "stdout",
     "output_type": "stream",
     "text": [
      "* \u001b[33m3bfd8d9\u001b[m\u001b[33m (\u001b[m\u001b[1;31morigin/feature2\u001b[m\u001b[33m, \u001b[m\u001b[1;32mfeature2\u001b[m\u001b[33m)\u001b[m Add f2\n",
      "\u001b[31m|\u001b[m * \u001b[33m9c48850\u001b[m\u001b[33m (\u001b[m\u001b[1;36mHEAD -> \u001b[m\u001b[1;32mdevelop\u001b[m\u001b[33m, \u001b[m\u001b[1;31morigin/feature1\u001b[m\u001b[33m, \u001b[m\u001b[1;32mfeature1\u001b[m\u001b[33m)\u001b[m Add f1\n",
      "\u001b[31m|\u001b[m\u001b[31m/\u001b[m  \n",
      "* \u001b[33m092c5ec\u001b[m\u001b[33m (\u001b[m\u001b[1;31morigin/master\u001b[m\u001b[33m, \u001b[m\u001b[1;31morigin/develop\u001b[m\u001b[33m, \u001b[m\u001b[1;31morigin/HEAD\u001b[m\u001b[33m, \u001b[m\u001b[1;32mmaster\u001b[m\u001b[33m)\u001b[m Add .gitignore\n",
      "* \u001b[33m911acd3\u001b[m Update README and delete files/a.txt\n",
      "* \u001b[33m62ff61d\u001b[m Add files/[a-c].txt\n",
      "* \u001b[33m0d54dcd\u001b[m Init my awesone project\n"
     ]
    }
   ],
   "source": [
    "git log --all --oneline --graph"
   ]
  },
  {
   "cell_type": "markdown",
   "metadata": {},
   "source": [
    "Merging the first feature went smoothly and a closer looks shows `Fast-forward` in the output of the merge command. Fast-forward means that the pointer could be moved forward. For feature2 fast-forward (ff) will not be available because moving the pointer would imply losing the feature1 commit."
   ]
  },
  {
   "cell_type": "code",
   "execution_count": 74,
   "metadata": {},
   "outputs": [
    {
     "name": "stdout",
     "output_type": "stream",
     "text": [
      "fatal: Not possible to fast-forward, aborting.\n"
     ]
    }
   ],
   "source": [
    "git merge --ff-only feature2"
   ]
  },
  {
   "cell_type": "code",
   "execution_count": 75,
   "metadata": {},
   "outputs": [
    {
     "name": "stdout",
     "output_type": "stream",
     "text": [
      "Merge made by the 'recursive' strategy.\n",
      " f2.txt | 1 \u001b[32m+\u001b[m\n",
      " 1 file changed, 1 insertion(+)\n",
      " create mode 100644 f2.txt\n"
     ]
    }
   ],
   "source": [
    "git merge feature2 -m \"Merge branch 'feature2' into develop\""
   ]
  },
  {
   "cell_type": "code",
   "execution_count": 76,
   "metadata": {},
   "outputs": [
    {
     "name": "stdout",
     "output_type": "stream",
     "text": [
      "*   \u001b[33m6eb7961\u001b[m\u001b[33m (\u001b[m\u001b[1;36mHEAD -> \u001b[m\u001b[1;32mdevelop\u001b[m\u001b[33m)\u001b[m Merge branch 'feature2' into develop\n",
      "\u001b[31m|\u001b[m\u001b[32m\\\u001b[m  \n",
      "\u001b[31m|\u001b[m * \u001b[33m3bfd8d9\u001b[m\u001b[33m (\u001b[m\u001b[1;31morigin/feature2\u001b[m\u001b[33m, \u001b[m\u001b[1;32mfeature2\u001b[m\u001b[33m)\u001b[m Add f2\n",
      "* \u001b[32m|\u001b[m \u001b[33m9c48850\u001b[m\u001b[33m (\u001b[m\u001b[1;31morigin/feature1\u001b[m\u001b[33m, \u001b[m\u001b[1;32mfeature1\u001b[m\u001b[33m)\u001b[m Add f1\n",
      "\u001b[32m|\u001b[m\u001b[32m/\u001b[m  \n",
      "* \u001b[33m092c5ec\u001b[m\u001b[33m (\u001b[m\u001b[1;31morigin/master\u001b[m\u001b[33m, \u001b[m\u001b[1;31morigin/develop\u001b[m\u001b[33m, \u001b[m\u001b[1;31morigin/HEAD\u001b[m\u001b[33m, \u001b[m\u001b[1;32mmaster\u001b[m\u001b[33m)\u001b[m Add .gitignore\n",
      "* \u001b[33m911acd3\u001b[m Update README and delete files/a.txt\n",
      "* \u001b[33m62ff61d\u001b[m Add files/[a-c].txt\n",
      "* \u001b[33m0d54dcd\u001b[m Init my awesone project\n"
     ]
    }
   ],
   "source": [
    "git log --all --oneline --graph"
   ]
  },
  {
   "cell_type": "code",
   "execution_count": 77,
   "metadata": {},
   "outputs": [
    {
     "name": "stdout",
     "output_type": "stream",
     "text": [
      "Counting objects: 2, done.\n",
      "Delta compression using up to 4 threads.\n",
      "Compressing objects: 100% (2/2), done.\n",
      "Writing objects: 100% (2/2), 303 bytes | 303.00 KiB/s, done.\n",
      "Total 2 (delta 1), reused 0 (delta 0)\n",
      "remote: Resolving deltas: 100% (1/1), completed with 1 local object.\u001b[K\n",
      "To github.com:ubaumann/test1.git\n",
      "   092c5ec..6eb7961  develop -> develop\n"
     ]
    }
   ],
   "source": [
    "git push"
   ]
  },
  {
   "cell_type": "markdown",
   "metadata": {},
   "source": [
    "Because it was already clear that we needed a new commit, the option `-m` can already be provided. Otherwise the editor would automatically open in order to provide a commit message."
   ]
  },
  {
   "cell_type": "code",
   "execution_count": 78,
   "metadata": {},
   "outputs": [
    {
     "name": "stdout",
     "output_type": "stream",
     "text": [
      "Deleted branch feature1 (was 9c48850).\n"
     ]
    }
   ],
   "source": [
    "git branch -d feature1"
   ]
  },
  {
   "cell_type": "code",
   "execution_count": 79,
   "metadata": {},
   "outputs": [
    {
     "name": "stdout",
     "output_type": "stream",
     "text": [
      "Deleted branch feature2 (was 3bfd8d9).\n"
     ]
    }
   ],
   "source": [
    "git branch -d feature2"
   ]
  },
  {
   "cell_type": "code",
   "execution_count": 80,
   "metadata": {},
   "outputs": [
    {
     "name": "stdout",
     "output_type": "stream",
     "text": [
      "Everything up-to-date\n"
     ]
    }
   ],
   "source": [
    "git push"
   ]
  },
  {
   "cell_type": "code",
   "execution_count": 81,
   "metadata": {},
   "outputs": [
    {
     "name": "stdout",
     "output_type": "stream",
     "text": [
      "To github.com:ubaumann/test1.git\n",
      " - [deleted]         feature1\n",
      " - [deleted]         feature2\n"
     ]
    }
   ],
   "source": [
    "git push origin --delete feature1 feature2"
   ]
  },
  {
   "cell_type": "markdown",
   "metadata": {},
   "source": [
    "Branches can be deleted to clean up the repository and that does not affect the commits. To delete branches on the remote, the command `git push <remote> --delete <branch>` has to be used."
   ]
  },
  {
   "cell_type": "markdown",
   "metadata": {},
   "source": [
    "Many server solutions make the collaboration easier and have great features. Common features are Pull Request (PR) or also called Merge Request, review and approval functions, issue tracking with creating new branches directly. In your working team you should define a working strategy. It totally makes sense to use the four eyes principle for merging branches, and can increase the quality greatly besides the test."
   ]
  },
  {
   "cell_type": "markdown",
   "metadata": {},
   "source": [
    "### Merge Conflict\n",
    "\n",
    "Git tries to automatically merge changes, but in some cases Git will not be able to merge them, causing the merge to end up in a merge stage where the conflict has to be resolved by hand. This happens when, for example, two engineers change the same line."
   ]
  },
  {
   "cell_type": "code",
   "execution_count": 82,
   "metadata": {},
   "outputs": [
    {
     "name": "stdout",
     "output_type": "stream",
     "text": [
      "Switched to a new branch 'todo_moon'\n"
     ]
    }
   ],
   "source": [
    "git checkout -b todo_moon"
   ]
  },
  {
   "cell_type": "code",
   "execution_count": 83,
   "metadata": {},
   "outputs": [
    {
     "name": "stdout",
     "output_type": "stream",
     "text": [
      "# Test Project 1\n",
      "\n",
      "It is always good to have a README file as a entry point of reading in a project.\n",
      "The file doesn't have to be huge and perfect. As the project develops this file should too.\n",
      "\n",
      "## ToDo\n",
      "\n",
      "- create some awesome content\n",
      "- seize world domination\n",
      "- save the planet\n",
      "- walk the moon\n"
     ]
    }
   ],
   "source": [
    "echo \"- walk the moon\" >> README.md && cat README.md"
   ]
  },
  {
   "cell_type": "code",
   "execution_count": 84,
   "metadata": {},
   "outputs": [
    {
     "name": "stdout",
     "output_type": "stream",
     "text": [
      "[todo_moon 4669cb7] Add walk the moon\n",
      " 1 file changed, 1 insertion(+)\n"
     ]
    }
   ],
   "source": [
    "git commit -am \"Add walk the moon\""
   ]
  },
  {
   "cell_type": "code",
   "execution_count": 85,
   "metadata": {},
   "outputs": [
    {
     "name": "stdout",
     "output_type": "stream",
     "text": [
      "Switched to branch 'develop'\n",
      "Your branch is up to date with 'origin/develop'.\n"
     ]
    }
   ],
   "source": [
    "git checkout develop"
   ]
  },
  {
   "cell_type": "markdown",
   "metadata": {},
   "source": [
    "In the new branch we added a new ToDo to the `READMME.md`. To simulate some other changes before we merge the created branch we will also add a ToDo in the develop branch and commit it."
   ]
  },
  {
   "cell_type": "code",
   "execution_count": 86,
   "metadata": {},
   "outputs": [
    {
     "name": "stdout",
     "output_type": "stream",
     "text": [
      "# Test Project 1\n",
      "\n",
      "It is always good to have a README file as a entry point of reading in a project.\n",
      "The file doesn't have to be huge and perfect. As the project develops this file should too.\n",
      "\n",
      "## ToDo\n",
      "\n",
      "- create some awesome content\n",
      "- seize world domination\n",
      "- save the planet\n",
      "- fully automated IT\n"
     ]
    }
   ],
   "source": [
    "echo \"- fully automated IT\" >> README.md && cat README.md"
   ]
  },
  {
   "cell_type": "code",
   "execution_count": 87,
   "metadata": {},
   "outputs": [
    {
     "name": "stdout",
     "output_type": "stream",
     "text": [
      "[develop b9b6c8c] Add fully automated IT\n",
      " 1 file changed, 1 insertion(+)\n"
     ]
    }
   ],
   "source": [
    "git commit -am \"Add fully automated IT\""
   ]
  },
  {
   "cell_type": "code",
   "execution_count": 88,
   "metadata": {},
   "outputs": [
    {
     "name": "stdout",
     "output_type": "stream",
     "text": [
      "Auto-merging README.md\n",
      "CONFLICT (content): Merge conflict in README.md\n",
      "Automatic merge failed; fix conflicts and then commit the result.\n"
     ]
    }
   ],
   "source": [
    "git merge todo_moon"
   ]
  },
  {
   "cell_type": "code",
   "execution_count": 89,
   "metadata": {},
   "outputs": [
    {
     "name": "stdout",
     "output_type": "stream",
     "text": [
      "On branch develop\n",
      "Your branch is ahead of 'origin/develop' by 1 commit.\n",
      "  (use \"git push\" to publish your local commits)\n",
      "\n",
      "You have unmerged paths.\n",
      "  (fix conflicts and run \"git commit\")\n",
      "  (use \"git merge --abort\" to abort the merge)\n",
      "\n",
      "Unmerged paths:\n",
      "  (use \"git add <file>...\" to mark resolution)\n",
      "\n",
      "\t\u001b[31mboth modified:   README.md\u001b[m\n",
      "\n",
      "Untracked files:\n",
      "  (use \"git add <file>...\" to include in what will be committed)\n",
      "\n",
      "\t\u001b[31mfiles/d.txt\u001b[m\n",
      "\t\u001b[31mfiles/e.txt\u001b[m\n",
      "\t\u001b[31mfiles/f.txt\u001b[m\n",
      "\t\u001b[31mfiles/g.txt\u001b[m\n",
      "\n",
      "no changes added to commit (use \"git add\" and/or \"git commit -a\")\n"
     ]
    }
   ],
   "source": [
    "git status"
   ]
  },
  {
   "cell_type": "markdown",
   "metadata": {},
   "source": [
    "As we can see the Auto-merging failed for the file `README.md` because Git does not know how solve it automatically. The `git status` shows that we are having unmerged paths and alse the files with the conflict. In the case that we would not want to deal with the conflict at that moment, the merge can be aborted with `git merge --abort`. Otherwise the conflict has to be fixed manually and commited."
   ]
  },
  {
   "cell_type": "code",
   "execution_count": 90,
   "metadata": {},
   "outputs": [
    {
     "name": "stdout",
     "output_type": "stream",
     "text": [
      "# Test Project 1\n",
      "\n",
      "It is always good to have a README file as a entry point of reading in a project.\n",
      "The file doesn't have to be huge and perfect. As the project develops this file should too.\n",
      "\n",
      "## ToDo\n",
      "\n",
      "- create some awesome content\n",
      "- seize world domination\n",
      "- save the planet\n",
      "<<<<<<< HEAD\n",
      "- fully automated IT\n",
      "=======\n",
      "- walk the moon\n",
      ">>>>>>> todo_moon\n"
     ]
    }
   ],
   "source": [
    "cat README.md"
   ]
  },
  {
   "cell_type": "markdown",
   "metadata": {},
   "source": [
    "In the file `<<<<<<<`, `=======` and `>>>>>>>` are showing the conflict and which part is coming from which. Git detected a change on the same line on both branches and does not know about the order of this command."
   ]
  },
  {
   "cell_type": "code",
   "execution_count": 91,
   "metadata": {},
   "outputs": [
    {
     "name": "stdout",
     "output_type": "stream",
     "text": [
      "# Test Project 1\n",
      "\n",
      "It is always good to have a README file as a entry point of reading in a project.\n",
      "The file doesn't have to be huge and perfect. As the project develops this file should too.\n",
      "\n",
      "## ToDo\n",
      "\n",
      "- create some awesome content\n",
      "- seize world domination\n",
      "- save the planet\n",
      "- walk the moon\n",
      "- fully automated IT\n"
     ]
    }
   ],
   "source": [
    "vim README.md -s <(printf 'G dd k dd 2k dd :m+\\n :wq!\\n') > /dev/null 2>&1 && cat README.md"
   ]
  },
  {
   "cell_type": "markdown",
   "metadata": {},
   "source": [
    "The above command starts Vim and uses normal mode commands. In short it goes to the last line, deletes (cut) the line, moves one up, then deletes the line, moves two lines up and finally delete this line as well. \n",
    "The active line will now be moved one line down and the file will be saved and closed. You can use your normal editor to fix the merge conflict."
   ]
  },
  {
   "cell_type": "code",
   "execution_count": 92,
   "metadata": {},
   "outputs": [
    {
     "name": "stdout",
     "output_type": "stream",
     "text": [
      "On branch develop\n",
      "Your branch is ahead of 'origin/develop' by 1 commit.\n",
      "  (use \"git push\" to publish your local commits)\n",
      "\n",
      "All conflicts fixed but you are still merging.\n",
      "  (use \"git commit\" to conclude merge)\n",
      "\n",
      "Changes to be committed:\n",
      "\n",
      "\t\u001b[32mmodified:   README.md\u001b[m\n",
      "\n",
      "Untracked files:\n",
      "  (use \"git add <file>...\" to include in what will be committed)\n",
      "\n",
      "\t\u001b[31mfiles/d.txt\u001b[m\n",
      "\t\u001b[31mfiles/e.txt\u001b[m\n",
      "\t\u001b[31mfiles/f.txt\u001b[m\n",
      "\t\u001b[31mfiles/g.txt\u001b[m\n",
      "\n"
     ]
    }
   ],
   "source": [
    "git add README.md && git status"
   ]
  },
  {
   "cell_type": "code",
   "execution_count": 93,
   "metadata": {},
   "outputs": [
    {
     "name": "stdout",
     "output_type": "stream",
     "text": [
      "[develop b1ddcdc] Fix merge conflict\n"
     ]
    }
   ],
   "source": [
    "git commit -m \"Fix merge conflict\""
   ]
  },
  {
   "cell_type": "code",
   "execution_count": 94,
   "metadata": {},
   "outputs": [
    {
     "name": "stdout",
     "output_type": "stream",
     "text": [
      "On branch develop\n",
      "Your branch is ahead of 'origin/develop' by 3 commits.\n",
      "  (use \"git push\" to publish your local commits)\n",
      "\n",
      "Untracked files:\n",
      "  (use \"git add <file>...\" to include in what will be committed)\n",
      "\n",
      "\t\u001b[31mfiles/d.txt\u001b[m\n",
      "\t\u001b[31mfiles/e.txt\u001b[m\n",
      "\t\u001b[31mfiles/f.txt\u001b[m\n",
      "\t\u001b[31mfiles/g.txt\u001b[m\n",
      "\n",
      "nothing added to commit but untracked files present (use \"git add\" to track)\n"
     ]
    }
   ],
   "source": [
    "git status"
   ]
  },
  {
   "cell_type": "code",
   "execution_count": 95,
   "metadata": {},
   "outputs": [
    {
     "name": "stdout",
     "output_type": "stream",
     "text": [
      "*   \u001b[33mb1ddcdc\u001b[m\u001b[33m (\u001b[m\u001b[1;36mHEAD -> \u001b[m\u001b[1;32mdevelop\u001b[m\u001b[33m)\u001b[m Fix merge conflict\n",
      "\u001b[31m|\u001b[m\u001b[32m\\\u001b[m  \n",
      "\u001b[31m|\u001b[m * \u001b[33m4669cb7\u001b[m\u001b[33m (\u001b[m\u001b[1;32mtodo_moon\u001b[m\u001b[33m)\u001b[m Add walk the moon\n",
      "* \u001b[32m|\u001b[m \u001b[33mb9b6c8c\u001b[m Add fully automated IT\n",
      "\u001b[32m|\u001b[m\u001b[32m/\u001b[m  \n",
      "*   \u001b[33m6eb7961\u001b[m\u001b[33m (\u001b[m\u001b[1;31morigin/develop\u001b[m\u001b[33m)\u001b[m Merge branch 'feature2' into develop\n",
      "\u001b[33m|\u001b[m\u001b[34m\\\u001b[m  \n"
     ]
    }
   ],
   "source": [
    "git log -4 --all --oneline --graph"
   ]
  },
  {
   "cell_type": "markdown",
   "metadata": {},
   "source": [
    "After fixing the conflict, all changed files need to be added to the staging index and a commit is created. Now the merge is successfully done. In bigger pull requests it makes sense to merge the `develop` branch first to the feature branch, so to have the merge conflict already solved and tested. Moreover, making small features reduces the complexity."
   ]
  },
  {
   "cell_type": "markdown",
   "metadata": {},
   "source": [
    "## Revert or Reset Commit\n",
    "\n",
    "Sometimes we need to undo a change. There are multiple ways of doing this and in this post we will take a look at `git revert` and `git reset`. We used the reset command already but it can do much more.\n",
    "\n",
    "### Revert\n",
    "\n",
    "Some commits ago we changed the ToDo \"create some content\" to \"create some awesome content\". With `git revert` we can get this change undone. \n",
    "First we have to find the commit. We could indeed use the log to find the commit message, but let's explore another approach."
   ]
  },
  {
   "cell_type": "code",
   "execution_count": 96,
   "metadata": {},
   "outputs": [
    {
     "name": "stdout",
     "output_type": "stream",
     "text": [
      "^0d54dcd (ubaumann 2020-07-16 05:21:55 +0200  1) # Test Project 1\n",
      "^0d54dcd (ubaumann 2020-07-16 05:21:55 +0200  2) \n",
      "^0d54dcd (ubaumann 2020-07-16 05:21:55 +0200  3) It is always good to have a README file as a entry point of reading in a project.\n",
      "^0d54dcd (ubaumann 2020-07-16 05:21:55 +0200  4) The file doesn't have to be huge and perfect. As the project develops this file should too.\n",
      "^0d54dcd (ubaumann 2020-07-16 05:21:55 +0200  5) \n",
      "^0d54dcd (ubaumann 2020-07-16 05:21:55 +0200  6) ## ToDo\n",
      "^0d54dcd (ubaumann 2020-07-16 05:21:55 +0200  7) \n",
      "911acd38 (ubaumann 2020-07-16 05:29:45 +0200  8) - create some awesome content\n",
      "^0d54dcd (ubaumann 2020-07-16 05:21:55 +0200  9) - seize world domination\n",
      "^0d54dcd (ubaumann 2020-07-16 05:21:55 +0200 10) - save the planet\n",
      "4669cb70 (ubaumann 2020-07-16 05:37:38 +0200 11) - walk the moon\n",
      "b9b6c8c7 (ubaumann 2020-07-16 05:38:06 +0200 12) - fully automated IT\n"
     ]
    }
   ],
   "source": [
    "git blame README.md"
   ]
  },
  {
   "cell_type": "markdown",
   "metadata": {},
   "source": [
    "With the blame command we can see who changed a line in a file and with which command. Also, the commit id is shown directly. The term Blame may sound bad but it is actually a good thing plus handy. Although, it would be better to call it praise."
   ]
  },
  {
   "cell_type": "code",
   "execution_count": 97,
   "metadata": {},
   "outputs": [
    {
     "name": "stdout",
     "output_type": "stream",
     "text": [
      "\u001b[33m911acd3\u001b[m Update README and delete files/a.txt\n",
      "\u001b[1mdiff --git a/README.md b/README.md\u001b[m\n",
      "\u001b[1mindex 4267dc1..3504571 100644\u001b[m\n",
      "\u001b[1m--- a/README.md\u001b[m\n",
      "\u001b[1m+++ b/README.md\u001b[m\n",
      "\u001b[36m@@ -5,6 +5,6 @@\u001b[m \u001b[mThe file doesn't have to be huge and perfect. As the project develops this file\u001b[m\n",
      " \u001b[m\n",
      " ## ToDo\u001b[m\n",
      " \u001b[m\n",
      "\u001b[31m-- create some content\u001b[m\n",
      "\u001b[32m+\u001b[m\u001b[32m- create some awesome content\u001b[m\n",
      " - seize world domination\u001b[m\n",
      " - save the planet\u001b[m\n",
      "\u001b[1mdiff --git a/files/a.txt b/files/a.txt\u001b[m\n",
      "\u001b[1mdeleted file mode 100644\u001b[m\n",
      "\u001b[1mindex e69de29..0000000\u001b[m\n"
     ]
    }
   ],
   "source": [
    "git show 911acd38 --oneline"
   ]
  },
  {
   "cell_type": "markdown",
   "metadata": {},
   "source": [
    "After locating the commit, we will want to undo this. In this simple example it is easy to fix it by hand and create a new command but git has a neater solution. With `git revert` we can automatically undo this change."
   ]
  },
  {
   "cell_type": "code",
   "execution_count": 98,
   "metadata": {},
   "outputs": [
    {
     "name": "stdout",
     "output_type": "stream",
     "text": [
      "[develop 72f79be] Revert \"Update README and delete files/a.txt\"\n",
      " Date: Thu Jul 16 05:40:56 2020 +0200\n",
      " 2 files changed, 1 insertion(+), 1 deletion(-)\n",
      " create mode 100644 files/a.txt\n"
     ]
    }
   ],
   "source": [
    "git revert 911acd38 --no-edit"
   ]
  },
  {
   "cell_type": "code",
   "execution_count": 99,
   "metadata": {},
   "outputs": [
    {
     "name": "stdout",
     "output_type": "stream",
     "text": [
      "# Test Project 1\n",
      "\n",
      "It is always good to have a README file as a entry point of reading in a project.\n",
      "The file doesn't have to be huge and perfect. As the project develops this file should too.\n",
      "\n",
      "## ToDo\n",
      "\n",
      "- create some content\n",
      "- seize world domination\n",
      "- save the planet\n",
      "- walk the moon\n",
      "- fully automated IT\n"
     ]
    }
   ],
   "source": [
    "cat README.md"
   ]
  },
  {
   "cell_type": "markdown",
   "metadata": {},
   "source": [
    "A new commit is created with the reverted change. The word *awesome* is deleted and the file `files/a.txt` is back. With the option `--no-edit` Git does not ask for the commit message. Because the old commit is still in the time line, the history is still correct."
   ]
  },
  {
   "cell_type": "markdown",
   "metadata": {},
   "source": [
    "### Reset\n",
    "\n",
    "We used already `reset` to clean the staging index. Let's take a closer look at what this command does. The command is powerful so always be very aware of what are you doing, because executing this command **can result in data loss**.\n",
    "\n",
    "The reset command updates the branch head to the specified commit. This means we can reset a branch to a commit and detach the newer commits. The operation has different modes and the three main ones are `--soft`, `--mixed` and `--hard`.\n",
    "\n",
    "Soft mode changes the pointer in the local repository, mixed mode does the prior while also cleaning the staging index and the hard mode does both plus reseting the working directory."
   ]
  },
  {
   "cell_type": "code",
   "execution_count": 100,
   "metadata": {},
   "outputs": [],
   "source": [
    "echo \"Extend feature 1\" >> f1.txt && echo \"Extend feature 2\" >> f2.txt"
   ]
  },
  {
   "cell_type": "code",
   "execution_count": 101,
   "metadata": {},
   "outputs": [
    {
     "name": "stdout",
     "output_type": "stream",
     "text": [
      "[develop 363e491] Extend feature 1\n",
      " 1 file changed, 1 insertion(+)\n"
     ]
    }
   ],
   "source": [
    "git add f1.txt && git commit -m \"Extend feature 1\""
   ]
  },
  {
   "cell_type": "code",
   "execution_count": 102,
   "metadata": {},
   "outputs": [
    {
     "name": "stdout",
     "output_type": "stream",
     "text": [
      "\u001b[33m363e491\u001b[m\u001b[33m (\u001b[m\u001b[1;36mHEAD -> \u001b[m\u001b[1;32mdevelop\u001b[m\u001b[33m)\u001b[m Extend feature 1\n",
      "\u001b[33m72f79be\u001b[m Revert \"Update README and delete files/a.txt\"\n"
     ]
    }
   ],
   "source": [
    "git log -2 --oneline"
   ]
  },
  {
   "cell_type": "code",
   "execution_count": 103,
   "metadata": {},
   "outputs": [
    {
     "name": "stdout",
     "output_type": "stream",
     "text": [
      "On branch develop\n",
      "Your branch is ahead of 'origin/develop' by 5 commits.\n",
      "  (use \"git push\" to publish your local commits)\n",
      "\n",
      "Changes to be committed:\n",
      "  (use \"git reset HEAD <file>...\" to unstage)\n",
      "\n",
      "\t\u001b[32mmodified:   f2.txt\u001b[m\n",
      "\n",
      "Untracked files:\n",
      "  (use \"git add <file>...\" to include in what will be committed)\n",
      "\n",
      "\t\u001b[31mfiles/d.txt\u001b[m\n",
      "\t\u001b[31mfiles/e.txt\u001b[m\n",
      "\t\u001b[31mfiles/f.txt\u001b[m\n",
      "\t\u001b[31mfiles/g.txt\u001b[m\n",
      "\n"
     ]
    }
   ],
   "source": [
    "git add f2.txt && git status"
   ]
  },
  {
   "cell_type": "markdown",
   "metadata": {},
   "source": [
    "After extending both features and committing the change to feature1, we can reset the branch head to the second last commit. Because we do not need to clean the staging index, only the mode `--soft` is needed."
   ]
  },
  {
   "cell_type": "code",
   "execution_count": 104,
   "metadata": {},
   "outputs": [],
   "source": [
    "git reset --soft HEAD~"
   ]
  },
  {
   "cell_type": "code",
   "execution_count": 105,
   "metadata": {},
   "outputs": [
    {
     "name": "stdout",
     "output_type": "stream",
     "text": [
      "On branch develop\n",
      "Your branch is ahead of 'origin/develop' by 4 commits.\n",
      "  (use \"git push\" to publish your local commits)\n",
      "\n",
      "Changes to be committed:\n",
      "  (use \"git reset HEAD <file>...\" to unstage)\n",
      "\n",
      "\t\u001b[32mmodified:   f1.txt\u001b[m\n",
      "\t\u001b[32mmodified:   f2.txt\u001b[m\n",
      "\n",
      "Untracked files:\n",
      "  (use \"git add <file>...\" to include in what will be committed)\n",
      "\n",
      "\t\u001b[31mfiles/d.txt\u001b[m\n",
      "\t\u001b[31mfiles/e.txt\u001b[m\n",
      "\t\u001b[31mfiles/f.txt\u001b[m\n",
      "\t\u001b[31mfiles/g.txt\u001b[m\n",
      "\n"
     ]
    }
   ],
   "source": [
    "git status"
   ]
  },
  {
   "cell_type": "code",
   "execution_count": 106,
   "metadata": {},
   "outputs": [
    {
     "name": "stdout",
     "output_type": "stream",
     "text": [
      "\u001b[33m72f79be\u001b[m\u001b[33m (\u001b[m\u001b[1;36mHEAD -> \u001b[m\u001b[1;32mdevelop\u001b[m\u001b[33m)\u001b[m Revert \"Update README and delete files/a.txt\"\n",
      "\u001b[33mb1ddcdc\u001b[m Fix merge conflict\n"
     ]
    }
   ],
   "source": [
    "git log -2 --oneline"
   ]
  },
  {
   "cell_type": "markdown",
   "metadata": {},
   "source": [
    "As the two commands above show, the last commit is \"undone\" and thus a new one can be created. To edit the last commit, the command `git commit` has an option `--amend` exacly for this use case. It can be handy when, for example, a file was forgotten to add.\n",
    "\n",
    "`HEAD~` is one commit older as the `HEAD` and `HEAD~2` would be two commits older. To be sure that also the commit id can be used."
   ]
  },
  {
   "cell_type": "code",
   "execution_count": 107,
   "metadata": {},
   "outputs": [
    {
     "name": "stdout",
     "output_type": "stream",
     "text": [
      "[develop 3c01c36] Extend feature 1 and 2 (second commit)\n",
      " 2 files changed, 2 insertions(+)\n"
     ]
    }
   ],
   "source": [
    "git commit -m \"Extend feature 1 and 2 (second commit)\""
   ]
  },
  {
   "cell_type": "code",
   "execution_count": 108,
   "metadata": {},
   "outputs": [
    {
     "name": "stdout",
     "output_type": "stream",
     "text": [
      "Unstaged changes after reset:\n",
      "M\tf1.txt\n",
      "M\tf2.txt\n",
      "On branch develop\n",
      "Your branch is ahead of 'origin/develop' by 4 commits.\n",
      "  (use \"git push\" to publish your local commits)\n",
      "\n",
      "Changes not staged for commit:\n",
      "  (use \"git add <file>...\" to update what will be committed)\n",
      "  (use \"git checkout -- <file>...\" to discard changes in working directory)\n",
      "\n",
      "\t\u001b[31mmodified:   f1.txt\u001b[m\n",
      "\t\u001b[31mmodified:   f2.txt\u001b[m\n",
      "\n",
      "Untracked files:\n",
      "  (use \"git add <file>...\" to include in what will be committed)\n",
      "\n",
      "\t\u001b[31mfiles/d.txt\u001b[m\n",
      "\t\u001b[31mfiles/e.txt\u001b[m\n",
      "\t\u001b[31mfiles/f.txt\u001b[m\n",
      "\t\u001b[31mfiles/g.txt\u001b[m\n",
      "\n",
      "no changes added to commit (use \"git add\" and/or \"git commit -a\")\n"
     ]
    }
   ],
   "source": [
    "git reset --mixed HEAD~ && git status"
   ]
  },
  {
   "cell_type": "markdown",
   "metadata": {},
   "source": [
    "After resetting with `--mixed`,  the working directory is still the same but the files are not staged anymore. This is the  default mode and it is equivalent to `git reset HEAD~`."
   ]
  },
  {
   "cell_type": "code",
   "execution_count": 109,
   "metadata": {},
   "outputs": [
    {
     "name": "stdout",
     "output_type": "stream",
     "text": [
      "[develop d24be3e] Extend feature 1 (third time)\n",
      " 1 file changed, 1 insertion(+)\n"
     ]
    }
   ],
   "source": [
    "git add f1.txt && git commit -m \"Extend feature 1 (third time)\""
   ]
  },
  {
   "cell_type": "code",
   "execution_count": 110,
   "metadata": {},
   "outputs": [
    {
     "name": "stdout",
     "output_type": "stream",
     "text": [
      "Feature 2\n",
      "Extend feature 2\n"
     ]
    }
   ],
   "source": [
    "cat f2.txt"
   ]
  },
  {
   "cell_type": "code",
   "execution_count": 111,
   "metadata": {},
   "outputs": [
    {
     "name": "stdout",
     "output_type": "stream",
     "text": [
      "HEAD is now at 72f79be Revert \"Update README and delete files/a.txt\"\n",
      "On branch develop\n",
      "Your branch is ahead of 'origin/develop' by 4 commits.\n",
      "  (use \"git push\" to publish your local commits)\n",
      "\n",
      "Untracked files:\n",
      "  (use \"git add <file>...\" to include in what will be committed)\n",
      "\n",
      "\t\u001b[31mfiles/d.txt\u001b[m\n",
      "\t\u001b[31mfiles/e.txt\u001b[m\n",
      "\t\u001b[31mfiles/f.txt\u001b[m\n",
      "\t\u001b[31mfiles/g.txt\u001b[m\n",
      "\n",
      "nothing added to commit but untracked files present (use \"git add\" to track)\n"
     ]
    }
   ],
   "source": [
    "git reset --hard HEAD~ && git status"
   ]
  },
  {
   "cell_type": "code",
   "execution_count": 112,
   "metadata": {},
   "outputs": [
    {
     "name": "stdout",
     "output_type": "stream",
     "text": [
      "Feature 2\n"
     ]
    }
   ],
   "source": [
    "cat f2.txt"
   ]
  },
  {
   "cell_type": "markdown",
   "metadata": {},
   "source": [
    "The mode `--hard` clears the staging index and resets all tracked files. This command **can result in data loss**!\n",
    "\n",
    "Resetting the pointer of a branch should only be done when the commits are not pushed to a remote or if no one else is working on this branch."
   ]
  },
  {
   "cell_type": "markdown",
   "metadata": {},
   "source": [
    "## Further Reading\n",
    "\n",
    "Git is a huge topic so hopefully you were able to get a good basic understanding, and as mentioned several times, there are a ton of resources available. The following list contains recommendations for further reading about Git. \n",
    "\t\n",
    "- bisect --- Fast way to find the commit who introduced the bug (binary search)\n",
    "- rebase --- Changing the order of commits, a nice alternative to merge\n",
    "- squash --- Squash multiple commits into one\n",
    "- stash --- put changes on the stash to continue later\n",
    "- tagging --- set tags for example to mark release points\n",
    "- Cherry Pick --- Applying a specific commit on another branch"
   ]
  }
 ],
 "metadata": {
  "kernelspec": {
   "display_name": "Bash",
   "language": "bash",
   "name": "bash"
  },
  "language_info": {
   "codemirror_mode": "shell",
   "file_extension": ".sh",
   "mimetype": "text/x-sh",
   "name": "bash"
  }
 },
 "nbformat": 4,
 "nbformat_minor": 4
}

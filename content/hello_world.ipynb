{
 "cells": [
  {
   "cell_type": "markdown",
   "metadata": {},
   "source": [
    "# Hello World\n",
    "\n",
    "\"Hello World\" is the most used \"program\" for discovering a new programming language or to run the first piece of code. The purpose is to have a piece of code to run and check the environment. But of course this does not only apply to programming languages. So this blog post does not really provide useful information bust is my blog post hello world.\n",
    "\n",
    "I hope I will find the time to write many blog post about Infrastructure as Code, Network Automation and topics around. All the coming _101_ blog posts should give a basic intro into a topic."
   ]
  },
  {
   "cell_type": "code",
   "execution_count": 1,
   "metadata": {},
   "outputs": [
    {
     "name": "stdout",
     "output_type": "stream",
     "text": [
      "Hello World. This is the first infrastructure as code blog post\n"
     ]
    }
   ],
   "source": [
    "name = \"infrastructure as code\"\n",
    "print(f\"Hello World. This is the first {name} blog post\")"
   ]
  },
  {
   "cell_type": "markdown",
   "metadata": {},
   "source": [
    "The code above is a simple python hello world example. If we would connect the first time to a network device we would probably configure the hostname and an ip address. This would also be our hello world example.\n",
    "\n",
    "\n",
    "I will be happy to receive feedback about my blog post and if you have topics you are interested in it feel free to let me know."
   ]
  }
 ],
 "metadata": {
  "kernelspec": {
   "display_name": "Python 3",
   "language": "python",
   "name": "python3"
  },
  "language_info": {
   "codemirror_mode": {
    "name": "ipython",
    "version": 3
   },
   "file_extension": ".py",
   "mimetype": "text/x-python",
   "name": "python",
   "nbconvert_exporter": "python",
   "pygments_lexer": "ipython3",
   "version": "3.8.0"
  }
 },
 "nbformat": 4,
 "nbformat_minor": 4
}

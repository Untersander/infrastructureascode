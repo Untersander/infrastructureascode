{
 "cells": [
  {
   "cell_type": "markdown",
   "metadata": {},
   "source": [
    "# YAML Data Validation\n",
    "\n",
    "YAML Files (and other data files like JSON) are becoming more and more important in infrastructure deployments and projects. We often edit YAML files in a text editor and a mistake can have big impact. Before something is deployed in production, it should definitely be validated, tested and verified but how can we check that a YAML file is not only syntactically correct but also that the data structure is correct?\n",
    "\n",
    "[JSON Schema](https://json-schema.org/) is probably the defacto standard for validation of JSON data and can also be used for YAML files. A nice side effect is syntax highlighting in most text editors, which makes editing YAML files more pleasant and less error-prone."
   ]
  },
  {
   "cell_type": "markdown",
   "metadata": {},
   "source": [
    "## JSON Schema\n",
    "\n",
    "This blog post only gives a general overview and some examples of JSON Schema. A good starting point for learning [JSON Schema - Understanding](https://json-schema.org/understanding-json-schema/index.html). There are also many good tools and libraries available helping generating schemas. A list of implementations can be found [here](https://json-schema.org/implementations.html).\n",
    "\n"
   ]
  },
  {
   "cell_type": "code",
   "execution_count": 1,
   "metadata": {},
   "outputs": [],
   "source": [
    "cat > urs.yaml <<EOF\n",
    "---\n",
    "name: urs\n",
    "ipv4: 127.0.0.1\n",
    "...\n",
    "EOF"
   ]
  },
  {
   "cell_type": "markdown",
   "metadata": {},
   "source": [
    "The YAML data can be validated with a JSON Schema. Suppose we want to have YAML files with the name and IPv4 address. To validate the content we need to describe the schema. A mapping in YAML is an object in JSON. In this case the object has 2 properties named \"name\" and \"ipv4\". Both of type \"string\"."
   ]
  },
  {
   "cell_type": "code",
   "execution_count": 2,
   "metadata": {},
   "outputs": [],
   "source": [
    "cat > name_schema.json <<EOF\n",
    "{\n",
    "    \"$schema\": \"https://json-schema.org/draft/2020-12/schema\",\n",
    "    \"type\": \"object\",\n",
    "    \"additionalProperties\": false,\n",
    "    \"properties\": {\n",
    "        \"name\": {\n",
    "            \"type\": \"string\"\n",
    "        },\n",
    "        \"ipv4\": {\n",
    "            \"type\": \"string\"\n",
    "        }\n",
    "    }\n",
    "}\n",
    "EOF"
   ]
  },
  {
   "cell_type": "markdown",
   "metadata": {},
   "source": [
    "To validate the YAML file the CLI tool [yajsv](https://github.com/neilpa/yajsv) can be used for example. [ajv-cli](https://www.npmjs.com/package/ajv-cli) is also a good option."
   ]
  },
  {
   "cell_type": "code",
   "execution_count": 3,
   "metadata": {},
   "outputs": [],
   "source": [
    "curl https://github.com/neilpa/yajsv/releases/download/v1.4.0/yajsv.linux.amd64 -o yajsv -L -s\n",
    "chmod +x yajsv"
   ]
  },
  {
   "cell_type": "code",
   "execution_count": 4,
   "metadata": {},
   "outputs": [
    {
     "name": "stdout",
     "output_type": "stream",
     "text": [
      "urs.yaml: pass\n"
     ]
    }
   ],
   "source": [
    "./yajsv -s name_schema.json urs.yaml"
   ]
  },
  {
   "cell_type": "markdown",
   "metadata": {},
   "source": [
    "### Data Validation\n",
    "\n",
    "JSON Schema can validate more than just data types. For the type [\"number\"](https://json-schema.org/understanding-json-schema/reference/numeric.html) there are among others `minimum`, `exclusiveMinimum`, `maximum`, `exclusiveMaximum` and `multipleOf` options available. For [\"string\"](https://json-schema.org/understanding-json-schema/reference/string.html) you can validate patterns with regex and there are also predefined [formats](https://json-schema.org/understanding-json-schema/reference/string.html#format) available. "
   ]
  },
  {
   "cell_type": "code",
   "execution_count": 5,
   "metadata": {},
   "outputs": [],
   "source": [
    "cat > name_schema.json <<EOF\n",
    "{\n",
    "    \"$schema\": \"https://json-schema.org/draft/2020-12/schema\",\n",
    "    \"type\": \"object\",\n",
    "    \"additionalProperties\": false,\n",
    "    \"properties\": {\n",
    "        \"name\": {\n",
    "            \"type\": \"string\",\n",
    "            \"pattern\": \"^[A-Z].*$\"\n",
    "        },\n",
    "        \"ipv4\": {\n",
    "            \"type\": \"string\",\n",
    "            \"format\": \"ipv4\"\n",
    "        }\n",
    "    }\n",
    "}\n",
    "EOF"
   ]
  },
  {
   "cell_type": "code",
   "execution_count": 6,
   "metadata": {},
   "outputs": [
    {
     "name": "stdout",
     "output_type": "stream",
     "text": [
      "urs.yaml: fail: name: Does not match pattern '^[A-Z].*$'\n",
      "1 of 1 failed validation\n",
      "urs.yaml: fail: name: Does not match pattern '^[A-Z].*$'\n"
     ]
    }
   ],
   "source": [
    "./yajsv -s name_schema.json urs.yaml"
   ]
  },
  {
   "cell_type": "markdown",
   "metadata": {},
   "source": [
    "The regex checks if the name content starts with a capital letter and now fails. The IP address is valid. After the name is corrected, the file passes the verification again."
   ]
  },
  {
   "cell_type": "code",
   "execution_count": 7,
   "metadata": {},
   "outputs": [],
   "source": [
    "cat > urs.yaml <<EOF\n",
    "---\n",
    "name: Urs\n",
    "ipv4: 127.0.0.1\n",
    "...\n",
    "EOF"
   ]
  },
  {
   "cell_type": "code",
   "execution_count": 8,
   "metadata": {},
   "outputs": [
    {
     "name": "stdout",
     "output_type": "stream",
     "text": [
      "urs.yaml: pass\n"
     ]
    }
   ],
   "source": [
    "./yajsv -s name_schema.json urs.yaml"
   ]
  },
  {
   "cell_type": "markdown",
   "metadata": {},
   "source": [
    "JSON Schema has generic annotations not used for validations, but to describe and self-document the schema. It is also used in tools like syntax highlighting in editors."
   ]
  },
  {
   "cell_type": "code",
   "execution_count": 9,
   "metadata": {},
   "outputs": [],
   "source": [
    "cat > name_schema.json <<EOF\n",
    "{\n",
    "    \"$schema\": \"https://json-schema.org/draft/2020-12/schema\",\n",
    "    \"$id\": \"schema/schemas/name.json\",\n",
    "    \"type\": \"object\",\n",
    "    \"$comment\": \"Only the defined properties are allowed\",\n",
    "    \"additionalProperties\": false,\n",
    "    \"properties\": {\n",
    "        \"name\": {\n",
    "            \"type\": \"string\",\n",
    "            \"pattern\": \"^[A-Z].*$\",\n",
    "            \"title\": \"Name\",\n",
    "            \"description\": \"Name beginning with a capital letter\",\n",
    "            \"examples\": [\n",
    "                \"Jane Doe\",\n",
    "                \"John Doe\",\n",
    "                \"Jane\"\n",
    "            ]\n",
    "        },\n",
    "        \"ipv4\": {\n",
    "            \"type\": \"string\",\n",
    "            \"format\": \"ipv4\",\n",
    "            \"title\": \"IP Address\",\n",
    "            \"description\": \"IPv4 Address belonging to the name\",\n",
    "            \"examples\": [\n",
    "                \"127.0.0.1\",\n",
    "                \"10.11.12.13\"\n",
    "            ]\n",
    "        }\n",
    "    }\n",
    "}\n",
    "EOF"
   ]
  },
  {
   "cell_type": "markdown",
   "metadata": {},
   "source": [
    "### Structuring Schema\n",
    "\n",
    "The keyword [`$ref`](https://json-schema.org/understanding-json-schema/structuring.html#id18) can be used for structuring schemas and make especially bigger schemas more readable by defining (sub)schemas and (re)using them. "
   ]
  },
  {
   "cell_type": "code",
   "execution_count": 10,
   "metadata": {},
   "outputs": [],
   "source": [
    "cat > service_schema.json <<EOF\n",
    "{\n",
    "    \"$schema\": \"http://json-schema.org/draft-07/schema#\",\n",
    "    \"type\": \"object\",\n",
    "    \"additionalProperties\": false,\n",
    "    \"properties\": {\n",
    "        \"services\": {\n",
    "            \"type\": \"array\",\n",
    "            \"items\": {\n",
    "                \"type\": \"object\",\n",
    "                \"properties\": {\n",
    "                    \"name\": {\n",
    "                        \"type\": \"string\"\n",
    "                    },\n",
    "                    \"ports\": {\n",
    "                        \"type\": \"array\",\n",
    "                        \"items\": {\n",
    "                            \"$ref\": \"#/$defs/Port\"\n",
    "                        }\n",
    "                    }\n",
    "                },\n",
    "                \"required\": [\n",
    "                    \"name\",\n",
    "                    \"ports\"\n",
    "                ]\n",
    "            }\n",
    "        }\n",
    "    },\n",
    "    \"required\": [\n",
    "        \"services\"\n",
    "    ],\n",
    "    \"$defs\": {\n",
    "        \"Port\": {\n",
    "            \"type\": \"object\",\n",
    "            \"properties\": {\n",
    "                \"port\": {\n",
    "                    \"type\": \"integer\"\n",
    "                },\n",
    "                \"name\": {\n",
    "                    \"type\": \"string\"\n",
    "                },\n",
    "                \"targetPort\": {\n",
    "                    \"type\": \"integer\"\n",
    "                }\n",
    "            },\n",
    "            \"required\": [\n",
    "                \"port\",\n",
    "                \"name\"\n",
    "            ]\n",
    "        }\n",
    "    }\n",
    "}\n",
    "EOF"
   ]
  },
  {
   "cell_type": "code",
   "execution_count": 11,
   "metadata": {},
   "outputs": [],
   "source": [
    "cat > myService.yaml <<EOF\n",
    "---\n",
    "services:\n",
    "  - name: app01\n",
    "    ports:\n",
    "      - name: http\n",
    "        port: &http 80\n",
    "      - port: 8080\n",
    "        name: http_alt\n",
    "        targetPort: *http\n",
    "      - name: https\n",
    "        port: 443\n",
    "  - name: db01\n",
    "    ports:\n",
    "      - port: 5432\n",
    "        name: sql\n",
    "...\n",
    "EOF"
   ]
  },
  {
   "cell_type": "code",
   "execution_count": 12,
   "metadata": {},
   "outputs": [
    {
     "name": "stdout",
     "output_type": "stream",
     "text": [
      "myService.yaml: pass\n"
     ]
    }
   ],
   "source": [
    "./yajsv -s service_schema.json myService.yaml"
   ]
  },
  {
   "cell_type": "markdown",
   "metadata": {},
   "source": [
    "## Schema Generator\n",
    "\n",
    "Generators provide a good starting point to create the schema. From the JSON Schema generator used, [https://app.quicktype.io/](https://app.quicktype.io/) is one of the most popular. The generator only supports JSON so the data need to be converted first when creating the schema. Depending on the structure, a single JSON can be used or many JSON objects in the \"Source type\" `Multiple JSON`. Most of the time the generated schema needs adjustment and adding semantic checks like pattern, format, enum or number restrictions but it shortens the time for creating a scheme enormously. \n",
    "\n",
    "\n",
    "![quicktype]({static}/images/quicktype_json_schema.png)"
   ]
  },
  {
   "cell_type": "markdown",
   "metadata": {},
   "source": [
    "## Editor Support\n",
    "\n",
    "Many editors support JSON Schema for YAML files and thus autocompletion and tooltips as well as validation. This makes editing YAML files easier and less error-prone, since you get feedback before you save the file. Many editors use the [yaml-language-server](https://github.com/redhat-developer/yaml-language-server) implementation from Red Hat. The following examples are tested with VS Code with the [YAML](https://marketplace.visualstudio.com/items?itemName=redhat.vscode-yaml) extension.\n",
    "\n",
    "![vscode_yaml_validation]({static}/images/vscode_yaml_validation.png)\n",
    "\n",
    "Like other editors the `yaml-language-server` supports the [JSON Schema Store](https://www.schemastore.org/json/). A list of schemas with associated `fileMatch` patterns is retrieved from the [API](https://www.schemastore.org/api/json/catalog.json). If a file matches a pattern, the associated scheme is used. For example, all YAML files under the path `.github/workflows/*.yaml` are automatically validated with the schema [github-workflow.json](https://json.schemastore.org/github-workflow.json).\n",
    "\n",
    "To see the list of schemas with YAML files, `jq` can be used. The following command is limited to the first 15 lines."
   ]
  },
  {
   "cell_type": "code",
   "execution_count": 13,
   "metadata": {},
   "outputs": [
    {
     "name": "stdout",
     "output_type": "stream",
     "text": [
      "{\n",
      "  \"name\": \"AnyWork Automation Configuration\",\n",
      "  \"fileMatch\": [\n",
      "    \".awc.yaml\",\n",
      "    \".awc.yml\",\n",
      "    \".awc.json\",\n",
      "    \".awc.jsonc\",\n",
      "    \".awc\"\n",
      "  ]\n",
      "}\n",
      "{\n",
      "  \"name\": \"AnyWork Automation Configuration\",\n",
      "  \"fileMatch\": [\n",
      "    \".awc.yaml\",\n",
      "    \".awc.yml\",\n"
     ]
    }
   ],
   "source": [
    "curl https://www.schemastore.org/api/json/catalog.json -s | jq '.schemas[] | select((.fileMatch != null) and ((.fileMatch[] | contains(\"yaml\")) or (.fileMatch[] | contains(\"yml\")))) | { name: .name, fileMatch: .fileMatch }' 2>&1 | head -15"
   ]
  },
  {
   "cell_type": "markdown",
   "metadata": {},
   "source": [
    "### Schema Assignment\n",
    "\n",
    "Schemas can also be stored on any webserver, on the file system or in the project directory. In VS Code you can configure the schema assignment in the settings. Globally or for each project. \n",
    "\n",
    "In a project that contains the schemas, the `.vscode/settings.json` file might look like this using relative paths:\n",
    "```\n",
    "{\n",
    "    \"yaml.schemas\": {\n",
    "        \"schema/schemas/hosts.json\": [\n",
    "            \"host*.yaml\",\n",
    "            \"host*.yml\"\n",
    "        ],\n",
    "        \"schema/schemas/groups.json\": [\n",
    "            \"group*.yaml\",\n",
    "            \"group*.yml\"\n",
    "        ],\n",
    "        \"schema/schemas/defaults.json\": [\n",
    "            \"default.yaml\",\n",
    "            \"default.yml\"\n",
    "        ],\n",
    "    }\n",
    "}\n",
    "```\n",
    "Because the schemas are included in the project, it is easy to use them in the CI/CD pipeline."
   ]
  },
  {
   "cell_type": "markdown",
   "metadata": {},
   "source": [
    "### Modeline\n",
    "\n",
    "The schema can be specified inline with a modeline comment at the beginning of the YAML file. The schema url can be a web url, a relative or an absolute path.\n",
    "\n",
    "```\n",
    "# yaml-language-server: $schema=https://server/schema.json\n",
    "```\n",
    "\n",
    "```\n",
    "# yaml-language-server: $schema=../relative/path/hosts.json\n",
    "```\n",
    "\n",
    "```\n",
    "# yaml-language-server: $schema=/opt/schemas/groups.json\n",
    "```"
   ]
  },
  {
   "cell_type": "code",
   "execution_count": 14,
   "metadata": {},
   "outputs": [],
   "source": [
    "cat > urs.yaml <<EOF\n",
    "---\n",
    "# yaml-language-server: $schema=schema/schemas/name.json\n",
    "name: Urs\n",
    "ipv4: 127.0.0.1\n",
    "...\n",
    "EOF"
   ]
  },
  {
   "cell_type": "markdown",
   "metadata": {},
   "source": [
    "### Kubernetes\n",
    "\n",
    "The `yaml-language-server` includes Kubernetes, but does not know if a file is a Kubernetes file or not. Therefore, the pattern is needed in the settings to identify the YAML files. To recognize all YAML files starting with \"k8s\" as Kubernetes files, the following settings are required.\n",
    "```\n",
    "{\n",
    "    \"yaml.schemas\": {\n",
    "        \"kubernetes\": [\n",
    "            \"k8s*.yaml\",\n",
    "            \"k8s*.yml\"\n",
    "        ]\n",
    "    }\n",
    "}\n",
    "```\n",
    "\n",
    "Also inline specification works. Schemas generated from Swagger are available.\n",
    "```\n",
    "# yaml-language-server: $schema=https://raw.githubusercontent.com/yannh/kubernetes-json-schema/master/master-standalone-strict/all.json\n",
    "```\n",
    "\n",
    "Or a specific Kubernetes version\n",
    "```\n",
    "# yaml-language-server: $schema=https://raw.githubusercontent.com/yannh/kubernetes-json-schema/master/v1.23.1-standalone-strict/all.json\n",
    "```\n"
   ]
  }
 ],
 "metadata": {
  "interpreter": {
   "hash": "767d51c1340bd893661ea55ea3124f6de3c7a262a8b4abca0554b478b1e2ff90"
  },
  "kernelspec": {
   "display_name": "Bash",
   "language": "bash",
   "name": "bash"
  },
  "language_info": {
   "codemirror_mode": "shell",
   "file_extension": ".sh",
   "mimetype": "text/x-sh",
   "name": "bash"
  },
  "orig_nbformat": 4
 },
 "nbformat": 4,
 "nbformat_minor": 2
}
